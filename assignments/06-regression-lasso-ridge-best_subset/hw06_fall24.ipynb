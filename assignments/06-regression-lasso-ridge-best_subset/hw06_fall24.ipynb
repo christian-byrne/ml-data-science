{
 "cells": [
  {
   "cell_type": "markdown",
   "metadata": {
    "id": "7FNG8Q4tRxOU"
   },
   "source": [
    "# CSC380 - Homework 6\n",
    "\n",
    "\n",
    "All cells are marked with instructions to insert your code.  Please complete all cells as directed.\n",
    "\n",
    "**What to turn in**:\n",
    " -  Please print the notebook containing the answers and results into a pdf file (you can use `File - Print`). Submit this pdf file to the main homework entry in gradescope. Be sure to locate your answers for each problem when you submit, as ususal. In the worst case where you cannot print it into a pdf file somehow, you can create a Microsoft word document and then copy-paste screenshots showing your code and output parts by parts.\n",
    " -  You also need to submit this jupyter notebook file filled with your answers in the code entry in gradescope.\n",
    "\n",
    "**Description**:\n",
    "\n",
    "This homework will familiarize you with linear regression.  You will be using the *Prostate Cancer Dataset* from a study by Stamey et al. (1989).  The study aims to predict prostate-specific antigen levels from clinical measures in men about to receive a radical prostatectomy.  \n",
    "\n",
    "The data contain 8 features:\n",
    "* log cancer volume (lcavol)\n",
    "* log prostate weight (lweight)\n",
    "* age (age)\n",
    "* log amount of benign prostatic hyperplasia (lbph)\n",
    "* seminal vesicle invasion (svi)\n",
    "* log of capsular penetration (lcp)\n",
    "* Gleason score (gleason)\n",
    "* percent of Gleason scores 4 or 5 (pgg45)\n",
    "\n",
    "The data use a fixed Train / Test split.\n",
    "The test data can be accessed at:\n",
    "https://drive.google.com/file/d/1-ZN7JaNy1s9gt8W6eV4FRcBX7jq5PdRw/view?usp=sharing\n",
    "and the training data can be accessed at:\n",
    "https://drive.google.com/file/d/1-St-qgj2vjRvMLjmd8XLQFH2nBQRahbw/view?usp=sharing"
   ]
  },
  {
   "cell_type": "code",
   "execution_count": 2,
   "metadata": {
    "id": "HMMHdFuCM2TB"
   },
   "outputs": [],
   "source": [
    "#All finalised needed imports\n",
    "import pandas as pd\n",
    "import itertools\n",
    "from sklearn.model_selection import cross_val_score\n",
    "from sklearn import linear_model\n",
    "import matplotlib.pyplot as plt\n",
    "import numpy as np\n",
    "import warnings\n",
    "import sklearn.metrics\n",
    "import statsmodels.api as sm\n",
    "from sklearn.utils import shuffle\n",
    "from rich import print\n",
    "# Suppress warnings\n",
    "warnings.filterwarnings(\"ignore\")"
   ]
  },
  {
   "cell_type": "code",
   "execution_count": 3,
   "metadata": {
    "colab": {
     "base_uri": "https://localhost:8080/",
     "height": 224
    },
    "id": "jV0v7VU1O2NS",
    "outputId": "8f3cc7a2-456d-4986-cd82-94e5696efe44"
   },
   "outputs": [
    {
     "ename": "ModuleNotFoundError",
     "evalue": "No module named 'google'",
     "output_type": "error",
     "traceback": [
      "\u001b[0;31m---------------------------------------------------------------------------\u001b[0m",
      "\u001b[0;31mModuleNotFoundError\u001b[0m                       Traceback (most recent call last)",
      "Cell \u001b[0;32mIn[3], line 2\u001b[0m\n\u001b[1;32m      1\u001b[0m \u001b[38;5;66;03m# this assumes you have downloaded the training dataset to the My Drive/datasets folder.\u001b[39;00m\n\u001b[0;32m----> 2\u001b[0m \u001b[38;5;28;01mfrom\u001b[39;00m \u001b[38;5;21;01mgoogle\u001b[39;00m\u001b[38;5;21;01m.\u001b[39;00m\u001b[38;5;21;01mcolab\u001b[39;00m \u001b[38;5;28;01mimport\u001b[39;00m drive\n\u001b[1;32m      3\u001b[0m drive\u001b[38;5;241m.\u001b[39mmount(\u001b[38;5;124m'\u001b[39m\u001b[38;5;124m/content/drive\u001b[39m\u001b[38;5;124m'\u001b[39m)\n\u001b[1;32m      4\u001b[0m df_train \u001b[38;5;241m=\u001b[39m pd\u001b[38;5;241m.\u001b[39mread_csv(\u001b[38;5;124m'\u001b[39m\u001b[38;5;124m/content/drive/My Drive/datasets/prostate_train.csv\u001b[39m\u001b[38;5;124m'\u001b[39m)\n",
      "\u001b[0;31mModuleNotFoundError\u001b[0m: No module named 'google'"
     ]
    }
   ],
   "source": [
    "# this assumes you have downloaded the training dataset to the My Drive/datasets folder.\n",
    "from google.colab import drive\n",
    "drive.mount('/content/drive')\n",
    "df_train = pd.read_csv('/content/drive/My Drive/datasets/prostate_train.csv')\n",
    "df_test = pd.read_csv('/content/drive/My Drive/datasets/prostate_test.csv')\n",
    "\n",
    "# the original data is sorted by the output col, which interferes with efficacy of cval. Shuffle to fix\n",
    "df_train, df_test = shuffle(df_train), shuffle(df_test)\n",
    "assert df_train.columns.all() == df_test.columns.all()\n",
    "\n",
    "df_train.head()"
   ]
  },
  {
   "cell_type": "markdown",
   "metadata": {
    "id": "A73_lt-e6itZ"
   },
   "source": [
    "## Problem 1: Your First Regression\n",
    "We will begin by fitting our first ordinary least squares regression model.  But first we need to do a little data management.  You will notice that the data exist in a single data frame (one for Train and one for Test).  The last column of the data frame ('lpsa') is the quantity that we wish to predict (the Y-value).  \n",
    "\n",
    "### (a)\n",
    "(5 points)\n",
    "Do the following in the cell below,\n",
    "* Create X_train and Y_train by separating out the last column ('lpsa') and store it in Y_train\n",
    "* Do the same for X_test and Y_test\n",
    "* Display the DataFrame X_train"
   ]
  },
  {
   "cell_type": "code",
   "execution_count": null,
   "metadata": {
    "colab": {
     "base_uri": "https://localhost:8080/",
     "height": 206
    },
    "id": "4rJP2qpRSqXm",
    "outputId": "fca1a7ec-4c6f-4ac9-cb62-397016e0f018"
   },
   "outputs": [
    {
     "data": {
      "application/vnd.google.colaboratory.intrinsic+json": {
       "summary": "{\n  \"name\": \"X_train\",\n  \"rows\": 67,\n  \"fields\": [\n    {\n      \"column\": \"lcavol\",\n      \"properties\": {\n        \"dtype\": \"number\",\n        \"std\": 1.2425903747500937,\n        \"min\": -1.347073648,\n        \"max\": 3.821003607,\n        \"num_unique_values\": 65,\n        \"samples\": [\n          2.727852828,\n          0.182321557,\n          0.542324291\n        ],\n        \"semantic_type\": \"\",\n        \"description\": \"\"\n      }\n    },\n    {\n      \"column\": \"lweight\",\n      \"properties\": {\n        \"dtype\": \"number\",\n        \"std\": 0.4766007600733143,\n        \"min\": 2.374906,\n        \"max\": 4.780383,\n        \"num_unique_values\": 66,\n        \"samples\": [\n          3.995445,\n          3.593194,\n          4.178226\n        ],\n        \"semantic_type\": \"\",\n        \"description\": \"\"\n      }\n    },\n    {\n      \"column\": \"age\",\n      \"properties\": {\n        \"dtype\": \"number\",\n        \"std\": 7,\n        \"min\": 41,\n        \"max\": 79,\n        \"num_unique_values\": 27,\n        \"samples\": [\n          78,\n          49,\n          56\n        ],\n        \"semantic_type\": \"\",\n        \"description\": \"\"\n      }\n    },\n    {\n      \"column\": \"lbph\",\n      \"properties\": {\n        \"dtype\": \"number\",\n        \"std\": 1.4636548954318023,\n        \"min\": -1.38629436,\n        \"max\": 2.32630162,\n        \"num_unique_values\": 30,\n        \"samples\": [\n          -0.5798185,\n          1.63899671,\n          1.24415459\n        ],\n        \"semantic_type\": \"\",\n        \"description\": \"\"\n      }\n    },\n    {\n      \"column\": \"svi\",\n      \"properties\": {\n        \"dtype\": \"number\",\n        \"std\": 0,\n        \"min\": 0,\n        \"max\": 1,\n        \"num_unique_values\": 2,\n        \"samples\": [\n          1,\n          0\n        ],\n        \"semantic_type\": \"\",\n        \"description\": \"\"\n      }\n    },\n    {\n      \"column\": \"lcp\",\n      \"properties\": {\n        \"dtype\": \"number\",\n        \"std\": 1.4007352388888317,\n        \"min\": -1.38629436,\n        \"max\": 2.65675691,\n        \"num_unique_values\": 25,\n        \"samples\": [\n          1.9095425,\n          0.04879016\n        ],\n        \"semantic_type\": \"\",\n        \"description\": \"\"\n      }\n    },\n    {\n      \"column\": \"gleason\",\n      \"properties\": {\n        \"dtype\": \"number\",\n        \"std\": 0,\n        \"min\": 6,\n        \"max\": 9,\n        \"num_unique_values\": 4,\n        \"samples\": [\n          6,\n          8\n        ],\n        \"semantic_type\": \"\",\n        \"description\": \"\"\n      }\n    },\n    {\n      \"column\": \"pgg45\",\n      \"properties\": {\n        \"dtype\": \"number\",\n        \"std\": 29,\n        \"min\": 0,\n        \"max\": 100,\n        \"num_unique_values\": 16,\n        \"samples\": [\n          20,\n          15\n        ],\n        \"semantic_type\": \"\",\n        \"description\": \"\"\n      }\n    }\n  ]\n}",
       "type": "dataframe",
       "variable_name": "X_train"
      },
      "text/html": [
       "\n",
       "  <div id=\"df-8ec519f5-7961-43c4-86e1-b1f2455f1770\" class=\"colab-df-container\">\n",
       "    <div>\n",
       "<style scoped>\n",
       "    .dataframe tbody tr th:only-of-type {\n",
       "        vertical-align: middle;\n",
       "    }\n",
       "\n",
       "    .dataframe tbody tr th {\n",
       "        vertical-align: top;\n",
       "    }\n",
       "\n",
       "    .dataframe thead th {\n",
       "        text-align: right;\n",
       "    }\n",
       "</style>\n",
       "<table border=\"1\" class=\"dataframe\">\n",
       "  <thead>\n",
       "    <tr style=\"text-align: right;\">\n",
       "      <th></th>\n",
       "      <th>lcavol</th>\n",
       "      <th>lweight</th>\n",
       "      <th>age</th>\n",
       "      <th>lbph</th>\n",
       "      <th>svi</th>\n",
       "      <th>lcp</th>\n",
       "      <th>gleason</th>\n",
       "      <th>pgg45</th>\n",
       "    </tr>\n",
       "  </thead>\n",
       "  <tbody>\n",
       "    <tr>\n",
       "      <th>38</th>\n",
       "      <td>0.542324</td>\n",
       "      <td>4.178226</td>\n",
       "      <td>70</td>\n",
       "      <td>0.438255</td>\n",
       "      <td>0</td>\n",
       "      <td>-1.386294</td>\n",
       "      <td>7</td>\n",
       "      <td>20</td>\n",
       "    </tr>\n",
       "    <tr>\n",
       "      <th>26</th>\n",
       "      <td>0.457425</td>\n",
       "      <td>2.374906</td>\n",
       "      <td>64</td>\n",
       "      <td>-1.386294</td>\n",
       "      <td>0</td>\n",
       "      <td>-1.386294</td>\n",
       "      <td>7</td>\n",
       "      <td>15</td>\n",
       "    </tr>\n",
       "    <tr>\n",
       "      <th>8</th>\n",
       "      <td>-1.347074</td>\n",
       "      <td>3.598681</td>\n",
       "      <td>63</td>\n",
       "      <td>1.266948</td>\n",
       "      <td>0</td>\n",
       "      <td>-1.386294</td>\n",
       "      <td>6</td>\n",
       "      <td>0</td>\n",
       "    </tr>\n",
       "    <tr>\n",
       "      <th>24</th>\n",
       "      <td>-0.010050</td>\n",
       "      <td>3.216874</td>\n",
       "      <td>63</td>\n",
       "      <td>-1.386294</td>\n",
       "      <td>0</td>\n",
       "      <td>-0.798508</td>\n",
       "      <td>6</td>\n",
       "      <td>0</td>\n",
       "    </tr>\n",
       "    <tr>\n",
       "      <th>52</th>\n",
       "      <td>2.648300</td>\n",
       "      <td>3.582129</td>\n",
       "      <td>69</td>\n",
       "      <td>-1.386294</td>\n",
       "      <td>1</td>\n",
       "      <td>2.583998</td>\n",
       "      <td>7</td>\n",
       "      <td>70</td>\n",
       "    </tr>\n",
       "  </tbody>\n",
       "</table>\n",
       "</div>\n",
       "    <div class=\"colab-df-buttons\">\n",
       "\n",
       "  <div class=\"colab-df-container\">\n",
       "    <button class=\"colab-df-convert\" onclick=\"convertToInteractive('df-8ec519f5-7961-43c4-86e1-b1f2455f1770')\"\n",
       "            title=\"Convert this dataframe to an interactive table.\"\n",
       "            style=\"display:none;\">\n",
       "\n",
       "  <svg xmlns=\"http://www.w3.org/2000/svg\" height=\"24px\" viewBox=\"0 -960 960 960\">\n",
       "    <path d=\"M120-120v-720h720v720H120Zm60-500h600v-160H180v160Zm220 220h160v-160H400v160Zm0 220h160v-160H400v160ZM180-400h160v-160H180v160Zm440 0h160v-160H620v160ZM180-180h160v-160H180v160Zm440 0h160v-160H620v160Z\"/>\n",
       "  </svg>\n",
       "    </button>\n",
       "\n",
       "  <style>\n",
       "    .colab-df-container {\n",
       "      display:flex;\n",
       "      gap: 12px;\n",
       "    }\n",
       "\n",
       "    .colab-df-convert {\n",
       "      background-color: #E8F0FE;\n",
       "      border: none;\n",
       "      border-radius: 50%;\n",
       "      cursor: pointer;\n",
       "      display: none;\n",
       "      fill: #1967D2;\n",
       "      height: 32px;\n",
       "      padding: 0 0 0 0;\n",
       "      width: 32px;\n",
       "    }\n",
       "\n",
       "    .colab-df-convert:hover {\n",
       "      background-color: #E2EBFA;\n",
       "      box-shadow: 0px 1px 2px rgba(60, 64, 67, 0.3), 0px 1px 3px 1px rgba(60, 64, 67, 0.15);\n",
       "      fill: #174EA6;\n",
       "    }\n",
       "\n",
       "    .colab-df-buttons div {\n",
       "      margin-bottom: 4px;\n",
       "    }\n",
       "\n",
       "    [theme=dark] .colab-df-convert {\n",
       "      background-color: #3B4455;\n",
       "      fill: #D2E3FC;\n",
       "    }\n",
       "\n",
       "    [theme=dark] .colab-df-convert:hover {\n",
       "      background-color: #434B5C;\n",
       "      box-shadow: 0px 1px 3px 1px rgba(0, 0, 0, 0.15);\n",
       "      filter: drop-shadow(0px 1px 2px rgba(0, 0, 0, 0.3));\n",
       "      fill: #FFFFFF;\n",
       "    }\n",
       "  </style>\n",
       "\n",
       "    <script>\n",
       "      const buttonEl =\n",
       "        document.querySelector('#df-8ec519f5-7961-43c4-86e1-b1f2455f1770 button.colab-df-convert');\n",
       "      buttonEl.style.display =\n",
       "        google.colab.kernel.accessAllowed ? 'block' : 'none';\n",
       "\n",
       "      async function convertToInteractive(key) {\n",
       "        const element = document.querySelector('#df-8ec519f5-7961-43c4-86e1-b1f2455f1770');\n",
       "        const dataTable =\n",
       "          await google.colab.kernel.invokeFunction('convertToInteractive',\n",
       "                                                    [key], {});\n",
       "        if (!dataTable) return;\n",
       "\n",
       "        const docLinkHtml = 'Like what you see? Visit the ' +\n",
       "          '<a target=\"_blank\" href=https://colab.research.google.com/notebooks/data_table.ipynb>data table notebook</a>'\n",
       "          + ' to learn more about interactive tables.';\n",
       "        element.innerHTML = '';\n",
       "        dataTable['output_type'] = 'display_data';\n",
       "        await google.colab.output.renderOutput(dataTable, element);\n",
       "        const docLink = document.createElement('div');\n",
       "        docLink.innerHTML = docLinkHtml;\n",
       "        element.appendChild(docLink);\n",
       "      }\n",
       "    </script>\n",
       "  </div>\n",
       "\n",
       "\n",
       "<div id=\"df-c89bf951-b92c-4d6e-856f-d214d16dfcb9\">\n",
       "  <button class=\"colab-df-quickchart\" onclick=\"quickchart('df-c89bf951-b92c-4d6e-856f-d214d16dfcb9')\"\n",
       "            title=\"Suggest charts\"\n",
       "            style=\"display:none;\">\n",
       "\n",
       "<svg xmlns=\"http://www.w3.org/2000/svg\" height=\"24px\"viewBox=\"0 0 24 24\"\n",
       "     width=\"24px\">\n",
       "    <g>\n",
       "        <path d=\"M19 3H5c-1.1 0-2 .9-2 2v14c0 1.1.9 2 2 2h14c1.1 0 2-.9 2-2V5c0-1.1-.9-2-2-2zM9 17H7v-7h2v7zm4 0h-2V7h2v10zm4 0h-2v-4h2v4z\"/>\n",
       "    </g>\n",
       "</svg>\n",
       "  </button>\n",
       "\n",
       "<style>\n",
       "  .colab-df-quickchart {\n",
       "      --bg-color: #E8F0FE;\n",
       "      --fill-color: #1967D2;\n",
       "      --hover-bg-color: #E2EBFA;\n",
       "      --hover-fill-color: #174EA6;\n",
       "      --disabled-fill-color: #AAA;\n",
       "      --disabled-bg-color: #DDD;\n",
       "  }\n",
       "\n",
       "  [theme=dark] .colab-df-quickchart {\n",
       "      --bg-color: #3B4455;\n",
       "      --fill-color: #D2E3FC;\n",
       "      --hover-bg-color: #434B5C;\n",
       "      --hover-fill-color: #FFFFFF;\n",
       "      --disabled-bg-color: #3B4455;\n",
       "      --disabled-fill-color: #666;\n",
       "  }\n",
       "\n",
       "  .colab-df-quickchart {\n",
       "    background-color: var(--bg-color);\n",
       "    border: none;\n",
       "    border-radius: 50%;\n",
       "    cursor: pointer;\n",
       "    display: none;\n",
       "    fill: var(--fill-color);\n",
       "    height: 32px;\n",
       "    padding: 0;\n",
       "    width: 32px;\n",
       "  }\n",
       "\n",
       "  .colab-df-quickchart:hover {\n",
       "    background-color: var(--hover-bg-color);\n",
       "    box-shadow: 0 1px 2px rgba(60, 64, 67, 0.3), 0 1px 3px 1px rgba(60, 64, 67, 0.15);\n",
       "    fill: var(--button-hover-fill-color);\n",
       "  }\n",
       "\n",
       "  .colab-df-quickchart-complete:disabled,\n",
       "  .colab-df-quickchart-complete:disabled:hover {\n",
       "    background-color: var(--disabled-bg-color);\n",
       "    fill: var(--disabled-fill-color);\n",
       "    box-shadow: none;\n",
       "  }\n",
       "\n",
       "  .colab-df-spinner {\n",
       "    border: 2px solid var(--fill-color);\n",
       "    border-color: transparent;\n",
       "    border-bottom-color: var(--fill-color);\n",
       "    animation:\n",
       "      spin 1s steps(1) infinite;\n",
       "  }\n",
       "\n",
       "  @keyframes spin {\n",
       "    0% {\n",
       "      border-color: transparent;\n",
       "      border-bottom-color: var(--fill-color);\n",
       "      border-left-color: var(--fill-color);\n",
       "    }\n",
       "    20% {\n",
       "      border-color: transparent;\n",
       "      border-left-color: var(--fill-color);\n",
       "      border-top-color: var(--fill-color);\n",
       "    }\n",
       "    30% {\n",
       "      border-color: transparent;\n",
       "      border-left-color: var(--fill-color);\n",
       "      border-top-color: var(--fill-color);\n",
       "      border-right-color: var(--fill-color);\n",
       "    }\n",
       "    40% {\n",
       "      border-color: transparent;\n",
       "      border-right-color: var(--fill-color);\n",
       "      border-top-color: var(--fill-color);\n",
       "    }\n",
       "    60% {\n",
       "      border-color: transparent;\n",
       "      border-right-color: var(--fill-color);\n",
       "    }\n",
       "    80% {\n",
       "      border-color: transparent;\n",
       "      border-right-color: var(--fill-color);\n",
       "      border-bottom-color: var(--fill-color);\n",
       "    }\n",
       "    90% {\n",
       "      border-color: transparent;\n",
       "      border-bottom-color: var(--fill-color);\n",
       "    }\n",
       "  }\n",
       "</style>\n",
       "\n",
       "  <script>\n",
       "    async function quickchart(key) {\n",
       "      const quickchartButtonEl =\n",
       "        document.querySelector('#' + key + ' button');\n",
       "      quickchartButtonEl.disabled = true;  // To prevent multiple clicks.\n",
       "      quickchartButtonEl.classList.add('colab-df-spinner');\n",
       "      try {\n",
       "        const charts = await google.colab.kernel.invokeFunction(\n",
       "            'suggestCharts', [key], {});\n",
       "      } catch (error) {\n",
       "        console.error('Error during call to suggestCharts:', error);\n",
       "      }\n",
       "      quickchartButtonEl.classList.remove('colab-df-spinner');\n",
       "      quickchartButtonEl.classList.add('colab-df-quickchart-complete');\n",
       "    }\n",
       "    (() => {\n",
       "      let quickchartButtonEl =\n",
       "        document.querySelector('#df-c89bf951-b92c-4d6e-856f-d214d16dfcb9 button');\n",
       "      quickchartButtonEl.style.display =\n",
       "        google.colab.kernel.accessAllowed ? 'block' : 'none';\n",
       "    })();\n",
       "  </script>\n",
       "</div>\n",
       "\n",
       "    </div>\n",
       "  </div>\n"
      ],
      "text/plain": [
       "      lcavol   lweight  age      lbph  svi       lcp  gleason  pgg45\n",
       "38  0.542324  4.178226   70  0.438255    0 -1.386294        7     20\n",
       "26  0.457425  2.374906   64 -1.386294    0 -1.386294        7     15\n",
       "8  -1.347074  3.598681   63  1.266948    0 -1.386294        6      0\n",
       "24 -0.010050  3.216874   63 -1.386294    0 -0.798508        6      0\n",
       "52  2.648300  3.582129   69 -1.386294    1  2.583998        7     70"
      ]
     },
     "execution_count": 4,
     "metadata": {},
     "output_type": "execute_result"
    }
   ],
   "source": [
    "features = [\"lcavol\", \"lweight\", \"age\", \"lbph\", \"svi\", \"lcp\", \"gleason\", \"pgg45\"]\n",
    "output = [\"lpsa\"]\n",
    "\n",
    "# train\n",
    "X_train = df_train[features].copy()\n",
    "Y_train = df_train[output].copy()\n",
    "\n",
    "# test\n",
    "X_test = df_test[features].copy()\n",
    "Y_test = df_test[output].copy()\n",
    "\n",
    "# Display training inputs\n",
    "X_train.head()"
   ]
  },
  {
   "cell_type": "markdown",
   "metadata": {
    "id": "8ETPysbP8Fc6"
   },
   "source": [
    "### (b)\n",
    "(7 points)\n",
    "Now we will fit our first model using a single feature ('lcavol').  Do the following in the cell below,\n",
    "* Train a linear regression model on the 'lcavol' feature\n",
    "* Compute the R-squared score of the model on the training data\n",
    "* Scatterplot the training data for the 'lcavol' feature\n",
    "* Plot the regression line over the scatterplot\n",
    "* Label the plot axis / title and report the R-squared score\n",
    "\n",
    "A couple of notes:\n",
    "* Scikit-learn gets cranky when you pass in single features.  In some versions you will need to use, X_train['lcavol'].values.reshape(-1, 1)\n",
    "* To plot the regression line you can create a dense grid of points using numpy.arange, between the min() and max() of the feature values.\n",
    "\n",
    "[Documentation - Scikit-Learn - LinearRegression](https://scikit-learn.org/stable/modules/generated/sklearn.linear_model.LinearRegression.html#sklearn.linear_model.LinearRegression.score)"
   ]
  },
  {
   "cell_type": "code",
   "execution_count": null,
   "metadata": {
    "colab": {
     "base_uri": "https://localhost:8080/",
     "height": 489
    },
    "id": "v8RGYe8xP2iO",
    "outputId": "e6e5954f-be86-4f46-fd6d-cbb0f7d8e0cf"
   },
   "outputs": [
    {
     "data": {
      "text/html": [
       "<pre style=\"white-space:pre;overflow-x:auto;line-height:normal;font-family:Menlo,'DejaVu Sans Mono',consolas,'Courier New',monospace\">R-squared: <span style=\"color: #008080; text-decoration-color: #008080; font-weight: bold\">0.5375164690552882</span>\n",
       "</pre>\n"
      ],
      "text/plain": [
       "R-squared: \u001b[1;36m0.5375164690552882\u001b[0m\n"
      ]
     },
     "metadata": {},
     "output_type": "display_data"
    },
    {
     "data": {
      "image/png": "[encoded data removed]",
      "text/plain": [
       "<Figure size 640x480 with 1 Axes>"
      ]
     },
     "metadata": {},
     "output_type": "display_data"
    }
   ],
   "source": [
    "# Fit one feature\n",
    "lr = linear_model.LinearRegression()\n",
    "lr.fit(X_train[[\"lcavol\"]], Y_train)\n",
    "\n",
    "# plot the regression line over the training data\n",
    "plt.scatter(X_train[[\"lcavol\"]], Y_train, color=\"black\")\n",
    "plt.plot(\n",
    "    X_train[[\"lcavol\"]], lr.predict(X_train[[\"lcavol\"]]), color=\"blue\", linewidth=3\n",
    ")\n",
    "plt.title(\"Predicting lpsa using lcavol\")\n",
    "plt.xlabel(\"lcavol\")\n",
    "plt.ylabel(\"lpsa\")\n",
    "\n",
    "# report the R-squared value\n",
    "r2 = lr.score(X_train[[\"lcavol\"]], Y_train)\n",
    "print(\"R-squared:\", r2)"
   ]
  },
  {
   "cell_type": "markdown",
   "metadata": {
    "id": "rAKhTAdp-Lq9"
   },
   "source": [
    "## Problem 2: Best Subset Feature Selection\n",
    "Now we will look at finding the best subset of features out of all possible subsets.  To do this, you will implement the Best Feature Subset Selection.  We will break this into subproblems to walk through it.  To help you with this we have provided a function findsubsets(S,k).  When passed a set S this function will return a set of all subsets of size k, which you can iterate through to train models."
   ]
  },
  {
   "cell_type": "code",
   "execution_count": null,
   "metadata": {
    "id": "7jNdoPr4lYw4"
   },
   "outputs": [],
   "source": [
    "def findsubsets(S,k):\n",
    "    return set(itertools.combinations(S, k))"
   ]
  },
  {
   "cell_type": "markdown",
   "metadata": {
    "id": "1Zy6jrtRllHM"
   },
   "source": [
    "### (a)\n",
    "(8 points)\n",
    "We will start by getting familiar with the findsubsets() function.  The variable 'features' was defined previously as a set of all feature names.  In the cell do the following:\n",
    "* Use findsubsets to find all possible subsets of 3 features\n",
    "* Perform 5-fold cross validation to train a LinearRegression model on each set of 3 features\n",
    "* Find the model with the highest average $R^2$ score (scoring='r2')\n",
    "* Report the best performing set of features and the corresponding $R^2$ score\n",
    "\n",
    "[Documentation - Scikit-Learn - cross_val_score](https://scikit-learn.org/stable/modules/generated/sklearn.model_selection.cross_val_score.html)\n"
   ]
  },
  {
   "cell_type": "code",
   "execution_count": null,
   "metadata": {
    "colab": {
     "base_uri": "https://localhost:8080/",
     "height": 34
    },
    "id": "TmfGnsvgmmKO",
    "outputId": "4d7c1e14-be46-401d-a924-ae60f51b94c9"
   },
   "outputs": [
    {
     "data": {
      "text/html": [
       "<pre style=\"white-space:pre;overflow-x:auto;line-height:normal;font-family:Menlo,'DejaVu Sans Mono',consolas,'Courier New',monospace\">Best-performing set of features: <span style=\"font-weight: bold\">(</span><span style=\"color: #008000; text-decoration-color: #008000\">'lcavol'</span>, <span style=\"color: #008000; text-decoration-color: #008000\">'lbph'</span>, <span style=\"color: #008000; text-decoration-color: #008000\">'svi'</span><span style=\"font-weight: bold\">)</span> <span style=\"font-weight: bold\">(</span>R-squared = <span style=\"color: #008080; text-decoration-color: #008080; font-weight: bold\">0.5552326117225461</span><span style=\"font-weight: bold\">)</span>\n",
       "</pre>\n"
      ],
      "text/plain": [
       "Best-performing set of features: \u001b[1m(\u001b[0m\u001b[32m'lcavol'\u001b[0m, \u001b[32m'lbph'\u001b[0m, \u001b[32m'svi'\u001b[0m\u001b[1m)\u001b[0m \u001b[1m(\u001b[0mR-squared = \u001b[1;36m0.5552326117225461\u001b[0m\u001b[1m)\u001b[0m\n"
      ]
     },
     "metadata": {},
     "output_type": "display_data"
    }
   ],
   "source": [
    "lr = linear_model.LinearRegression()\n",
    "\n",
    "r2_means_subsets_3 = []\n",
    "for combination in findsubsets(features, 3):\n",
    "    mean_r2 = cross_val_score(\n",
    "        lr, X_train[list(combination)], Y_train, scoring=\"r2\", cv=5\n",
    "    ).mean()\n",
    "    r2_means_subsets_3.append((mean_r2, combination))\n",
    "\n",
    "best_r2_subset_3, best_feature_combo = sorted(r2_means_subsets_3, key=lambda x: -x[0])[0]\n",
    "print(\n",
    "    f\"Best-performing set of features: {best_feature_combo} (R-squared = {best_r2_subset_3})\"\n",
    ")"
   ]
  },
  {
   "cell_type": "markdown",
   "metadata": {
    "id": "rN-qL4N_n0tI"
   },
   "source": [
    "### (b)\n",
    "(15 points)\n",
    "Now, repeat the above process for all subsets of all sizes.  For each $k=1,\\ldots,8$ find all possible subsets of $k$ features and evaluate a model on each set of features using 5-fold cross validation.  Report your findings as follows,\n",
    "* Produce a scatterplot of $R^2$ values for every run with subset size on the horizontal axis, and $R^2$ on the vertical axis (label your plot axes/title)\n",
    "* Find the best performing model overall and report the $R^2$ and features for that model\n"
   ]
  },
  {
   "cell_type": "code",
   "execution_count": null,
   "metadata": {
    "colab": {
     "base_uri": "https://localhost:8080/",
     "height": 489
    },
    "id": "dWIabcOp884h",
    "outputId": "a63d6ac1-627b-47e3-d320-89b10cb51420"
   },
   "outputs": [
    {
     "data": {
      "text/html": [
       "<pre style=\"white-space:pre;overflow-x:auto;line-height:normal;font-family:Menlo,'DejaVu Sans Mono',consolas,'Courier New',monospace\">Best-performing set of features: <span style=\"font-weight: bold\">(</span><span style=\"color: #008000; text-decoration-color: #008000\">'lcavol'</span>, <span style=\"color: #008000; text-decoration-color: #008000\">'lweight'</span>, <span style=\"color: #008000; text-decoration-color: #008000\">'lbph'</span>, <span style=\"color: #008000; text-decoration-color: #008000\">'svi'</span><span style=\"font-weight: bold\">)</span> <span style=\"font-weight: bold\">(</span>R-squared = <span style=\"color: #008080; text-decoration-color: #008080; font-weight: bold\">0.5598629351516873</span><span style=\"font-weight: bold\">)</span>\n",
       "</pre>\n"
      ],
      "text/plain": [
       "Best-performing set of features: \u001b[1m(\u001b[0m\u001b[32m'lcavol'\u001b[0m, \u001b[32m'lweight'\u001b[0m, \u001b[32m'lbph'\u001b[0m, \u001b[32m'svi'\u001b[0m\u001b[1m)\u001b[0m \u001b[1m(\u001b[0mR-squared = \u001b[1;36m0.5598629351516873\u001b[0m\u001b[1m)\u001b[0m\n"
      ]
     },
     "metadata": {},
     "output_type": "display_data"
    },
    {
     "data": {
      "image/png": "[encoded data removed]",
      "text/plain": [
       "<Figure size 640x480 with 1 Axes>"
      ]
     },
     "metadata": {},
     "output_type": "display_data"
    }
   ],
   "source": [
    "lr = linear_model.LinearRegression()\n",
    "\n",
    "# evaluate all possible subsets of features\n",
    "subset_sizes = []\n",
    "r2_means_subsets_n = []\n",
    "for k in range(1, 9):\n",
    "    for combination in findsubsets(features, k):\n",
    "        mean_r2 = cross_val_score(\n",
    "            lr, X_train[list(combination)], Y_train, scoring=\"r2\", cv=5\n",
    "        ).mean()\n",
    "        r2_means_subsets_n.append((mean_r2, combination))\n",
    "        subset_sizes.append(k)\n",
    "\n",
    "# plot the R-squared values vs. subset size\n",
    "plt.scatter(subset_sizes, [r2 for r2, _ in r2_means_subsets_n], alpha=0.8, s=7)\n",
    "plt.xlabel(\"Subset Size (Num. Features)\")\n",
    "plt.ylabel(\"R-squared\")\n",
    "plt.title(\"R-squared vs. Subset Size\")\n",
    "\n",
    "# report the best-performing subset of features\n",
    "best_r2_subset_2, best_feature_combo = sorted(r2_means_subsets_n, key=lambda x: -x[0])[0]\n",
    "print(\n",
    "    f\"Best-performing set of features: {best_feature_combo} (R-squared = {best_r2_subset_2})\"\n",
    ")"
   ]
  },
  {
   "cell_type": "markdown",
   "metadata": {
    "id": "aJh7JMiiu-Y9"
   },
   "source": [
    "**Excellent**  You have found the best set of features by brute-force search over all possible features.  Good work."
   ]
  },
  {
   "cell_type": "markdown",
   "metadata": {
    "id": "paZwCchQ9vAM"
   },
   "source": [
    "## Problem 3 : Ridge Regression\n",
    "\n",
    "### (a)\n",
    "(5 points)\n",
    "The problem with brute force search over features is that it doesn't scale well.  We can do it for 8 features, but we can't do it for larger sets of features.  Instead, we will look at a simpler model selection strategy by using L2 regularized linear regression (a.k.a. Ridge Regression).  Do the following in the cell below,\n",
    "* Learn a Ridge regression model on training data with alpha=0.5\n",
    "* Report the learned feature weights using the provided printFeatureWeights function\n",
    "\n",
    "[Documentation - Scikit-Learn - linear_model.Ridge](https://scikit-learn.org/stable/modules/generated/sklearn.linear_model.Ridge.html)"
   ]
  },
  {
   "cell_type": "code",
   "execution_count": null,
   "metadata": {
    "colab": {
     "base_uri": "https://localhost:8080/",
     "height": 149
    },
    "id": "602shAoTWTU4",
    "outputId": "96d844b3-8de8-4967-f150-72170f426979"
   },
   "outputs": [
    {
     "data": {
      "text/html": [
       "<pre style=\"white-space:pre;overflow-x:auto;line-height:normal;font-family:Menlo,'DejaVu Sans Mono',consolas,'Courier New',monospace\">lcavol : <span style=\"color: #008080; text-decoration-color: #008080; font-weight: bold\">0.576706</span>\n",
       "</pre>\n"
      ],
      "text/plain": [
       "lcavol : \u001b[1;36m0.576706\u001b[0m\n"
      ]
     },
     "metadata": {},
     "output_type": "display_data"
    },
    {
     "data": {
      "text/html": [
       "<pre style=\"white-space:pre;overflow-x:auto;line-height:normal;font-family:Menlo,'DejaVu Sans Mono',consolas,'Courier New',monospace\">lweight : <span style=\"color: #008080; text-decoration-color: #008080; font-weight: bold\">0.593447</span>\n",
       "</pre>\n"
      ],
      "text/plain": [
       "lweight : \u001b[1;36m0.593447\u001b[0m\n"
      ]
     },
     "metadata": {},
     "output_type": "display_data"
    },
    {
     "data": {
      "text/html": [
       "<pre style=\"white-space:pre;overflow-x:auto;line-height:normal;font-family:Menlo,'DejaVu Sans Mono',consolas,'Courier New',monospace\">age : <span style=\"color: #008080; text-decoration-color: #008080; font-weight: bold\">-0.018544</span>\n",
       "</pre>\n"
      ],
      "text/plain": [
       "age : \u001b[1;36m-0.018544\u001b[0m\n"
      ]
     },
     "metadata": {},
     "output_type": "display_data"
    },
    {
     "data": {
      "text/html": [
       "<pre style=\"white-space:pre;overflow-x:auto;line-height:normal;font-family:Menlo,'DejaVu Sans Mono',consolas,'Courier New',monospace\">lbph : <span style=\"color: #008080; text-decoration-color: #008080; font-weight: bold\">0.145617</span>\n",
       "</pre>\n"
      ],
      "text/plain": [
       "lbph : \u001b[1;36m0.145617\u001b[0m\n"
      ]
     },
     "metadata": {},
     "output_type": "display_data"
    },
    {
     "data": {
      "text/html": [
       "<pre style=\"white-space:pre;overflow-x:auto;line-height:normal;font-family:Menlo,'DejaVu Sans Mono',consolas,'Courier New',monospace\">svi : <span style=\"color: #008080; text-decoration-color: #008080; font-weight: bold\">0.683643</span>\n",
       "</pre>\n"
      ],
      "text/plain": [
       "svi : \u001b[1;36m0.683643\u001b[0m\n"
      ]
     },
     "metadata": {},
     "output_type": "display_data"
    },
    {
     "data": {
      "text/html": [
       "<pre style=\"white-space:pre;overflow-x:auto;line-height:normal;font-family:Menlo,'DejaVu Sans Mono',consolas,'Courier New',monospace\">lcp : <span style=\"color: #008080; text-decoration-color: #008080; font-weight: bold\">-0.193621</span>\n",
       "</pre>\n"
      ],
      "text/plain": [
       "lcp : \u001b[1;36m-0.193621\u001b[0m\n"
      ]
     },
     "metadata": {},
     "output_type": "display_data"
    },
    {
     "data": {
      "text/html": [
       "<pre style=\"white-space:pre;overflow-x:auto;line-height:normal;font-family:Menlo,'DejaVu Sans Mono',consolas,'Courier New',monospace\">gleason : <span style=\"color: #008080; text-decoration-color: #008080; font-weight: bold\">-0.034175</span>\n",
       "</pre>\n"
      ],
      "text/plain": [
       "gleason : \u001b[1;36m-0.034175\u001b[0m\n"
      ]
     },
     "metadata": {},
     "output_type": "display_data"
    },
    {
     "data": {
      "text/html": [
       "<pre style=\"white-space:pre;overflow-x:auto;line-height:normal;font-family:Menlo,'DejaVu Sans Mono',consolas,'Courier New',monospace\">pgg45 : <span style=\"color: #008080; text-decoration-color: #008080; font-weight: bold\">0.009508</span>\n",
       "</pre>\n"
      ],
      "text/plain": [
       "pgg45 : \u001b[1;36m0.009508\u001b[0m\n"
      ]
     },
     "metadata": {},
     "output_type": "display_data"
    }
   ],
   "source": [
    "def printFeatureWeights(f, w):\n",
    "    for idx in range(len(f)):\n",
    "        print(\"%s : %f\" % (f[idx], w[idx]))\n",
    "\n",
    "\n",
    "reg_ridge = linear_model.Ridge(alpha=0.5)\n",
    "reg_ridge.fit(X_train, Y_train)\n",
    "printFeatureWeights(features, reg_ridge.coef_.flatten())"
   ]
  },
  {
   "cell_type": "markdown",
   "metadata": {
    "id": "L5UO9AYMwlpY"
   },
   "source": [
    "### (b)\n",
    "(12 points)\n",
    "We chose the regularization coefficient alpha=0.5 somewhat arbitrarily.  We now need to perform model selection in order to learn the best value of alpha.  We will do that by using cross_val_score over a range of values for alpha.  When searching for regularization parameters it is generally good practice to search in log-domain, rather than linear domain.  For example, we will search in the range $[10^{-1}, 10^3]$.  Using Numpy's \"logspace\" function this corresponds to the range $[-1, 3]$ in log-domain.  In the cell below do the following,\n",
    "* Create a range of 50 alpha values spaced logarithmically in the range $[10^{-1}, 10^3]$\n",
    "* Perform 5-fold cross-validation of Ridge regression model for each alpha and record $R^2$ score for each run (there will be 5x50 values)\n",
    "* Report the best $R^2$ score and the value of alpha that achieves that score\n",
    "* Use Matplotlib errorbar() function to plot the average $R^2$ with 1 standard deviation error bars for each of the 50 alpha values\n",
    "\n",
    "[Documentation - Matplotlib - errorbar](https://matplotlib.org/stable/api/_as_gen/matplotlib.pyplot.errorbar.html)\n",
    "\n",
    "[Documentation - Numpy - logspace](https://numpy.org/doc/stable/reference/generated/numpy.logspace.html)"
   ]
  },
  {
   "cell_type": "code",
   "execution_count": null,
   "metadata": {
    "colab": {
     "base_uri": "https://localhost:8080/",
     "height": 493
    },
    "id": "sB7WSC0EWTXr",
    "outputId": "e0f93119-a86c-451a-9a48-eb0d1f635734"
   },
   "outputs": [
    {
     "data": {
      "text/html": [
       "<pre style=\"white-space:pre;overflow-x:auto;line-height:normal;font-family:Menlo,'DejaVu Sans Mono',consolas,'Courier New',monospace\">Best R²: <span style=\"color: #008080; text-decoration-color: #008080; font-weight: bold\">0.545</span>, Best α: <span style=\"color: #008080; text-decoration-color: #008080; font-weight: bold\">1.151</span>\n",
       "</pre>\n"
      ],
      "text/plain": [
       "Best R²: \u001b[1;36m0.545\u001b[0m, Best α: \u001b[1;36m1.151\u001b[0m\n"
      ]
     },
     "metadata": {},
     "output_type": "display_data"
    },
    {
     "data": {
      "image/png": "[encoded data removed]",
      "text/plain": [
       "<Figure size 640x480 with 1 Axes>"
      ]
     },
     "metadata": {},
     "output_type": "display_data"
    }
   ],
   "source": [
    "domain = np.logspace(-1, 3, 50)\n",
    "\n",
    "# find the best alpha value across domain\n",
    "r2_means_ridge, r2_stds_ridge = [], []\n",
    "for alpha in domain:\n",
    "    reg = linear_model.Ridge(alpha=alpha)\n",
    "    r2_vals = cross_val_score(reg, X_train, Y_train, scoring=\"r2\", cv=5)\n",
    "    r2_means_ridge.append(r2_vals.mean())\n",
    "    r2_stds_ridge.append(r2_vals.std())\n",
    "\n",
    "# plot the R-squared values\n",
    "plt.errorbar(domain, r2_means_ridge, yerr=r2_stds_ridge, fmt=\"-\", capsize=3)\n",
    "plt.xscale(\"log\")\n",
    "plt.title(\"Ridge Regression - R² vs α\")\n",
    "plt.xlabel(\"α (log scale)\")\n",
    "plt.ylabel(\"Average R²\")\n",
    "\n",
    "# report the best R-squared value and the corresponding alpha\n",
    "best_r2_ridge = np.max(r2_means_ridge)\n",
    "best_alpha_ridge = domain[np.argmax(r2_means_ridge)]\n",
    "print(f\"Best R²: {best_r2_ridge:.3f}, Best α: {best_alpha_ridge:.3f}\")"
   ]
  },
  {
   "cell_type": "markdown",
   "metadata": {
    "id": "x1ugkjup20ag"
   },
   "source": [
    "Now that we have a good model we will look at what it has learned.  Train the Ridge regression model using the selected alpha from the previous cell.  Report the learned feature weights using the printFeatureWeights() function previously provided."
   ]
  },
  {
   "cell_type": "markdown",
   "metadata": {
    "id": "uQGplVV-XAGV"
   },
   "source": [
    "## Problem 4 : LASSO\n",
    "Ridge regression performs shrinkage of the weights using the L2 norm.  This will drive some weights *close* to zero, but not exactly zero.  The LASSO method replaces the L2 penalty with an L1 penalty.  Due to properties of L1 discussed in lecture, this has the effect of learning exactly zero weights on some features when it is supported by the data.  In this problem we will repeat procedure of learning a Ridge regression model, but we will instead use LASSO.  Let's start by fitting a LASSO model with a fixed alpha value.  \n",
    "\n",
    "### (a)\n",
    "(5 points)\n",
    "In the cell below do the following,\n",
    "* Fit LASSO with alpha=0.1\n",
    "* Use printFeatureWeights() to report the learned feature weights\n",
    "\n",
    "[Documentation - Scikit-Learn - linear_model.Lasso](https://scikit-learn.org/stable/modules/generated/sklearn.linear_model.Lasso.html)\n",
    "\n"
   ]
  },
  {
   "cell_type": "code",
   "execution_count": null,
   "metadata": {
    "colab": {
     "base_uri": "https://localhost:8080/",
     "height": 149
    },
    "id": "w86quobv5V28",
    "outputId": "ac6e90d0-3b5d-42a2-cc84-cfe82add2072"
   },
   "outputs": [
    {
     "data": {
      "text/html": [
       "<pre style=\"white-space:pre;overflow-x:auto;line-height:normal;font-family:Menlo,'DejaVu Sans Mono',consolas,'Courier New',monospace\">lcavol : <span style=\"color: #008080; text-decoration-color: #008080; font-weight: bold\">0.538986</span>\n",
       "</pre>\n"
      ],
      "text/plain": [
       "lcavol : \u001b[1;36m0.538986\u001b[0m\n"
      ]
     },
     "metadata": {},
     "output_type": "display_data"
    },
    {
     "data": {
      "text/html": [
       "<pre style=\"white-space:pre;overflow-x:auto;line-height:normal;font-family:Menlo,'DejaVu Sans Mono',consolas,'Courier New',monospace\">lweight : <span style=\"color: #008080; text-decoration-color: #008080; font-weight: bold\">0.184891</span>\n",
       "</pre>\n"
      ],
      "text/plain": [
       "lweight : \u001b[1;36m0.184891\u001b[0m\n"
      ]
     },
     "metadata": {},
     "output_type": "display_data"
    },
    {
     "data": {
      "text/html": [
       "<pre style=\"white-space:pre;overflow-x:auto;line-height:normal;font-family:Menlo,'DejaVu Sans Mono',consolas,'Courier New',monospace\">age : <span style=\"color: #008080; text-decoration-color: #008080; font-weight: bold\">-0.006352</span>\n",
       "</pre>\n"
      ],
      "text/plain": [
       "age : \u001b[1;36m-0.006352\u001b[0m\n"
      ]
     },
     "metadata": {},
     "output_type": "display_data"
    },
    {
     "data": {
      "text/html": [
       "<pre style=\"white-space:pre;overflow-x:auto;line-height:normal;font-family:Menlo,'DejaVu Sans Mono',consolas,'Courier New',monospace\">lbph : <span style=\"color: #008080; text-decoration-color: #008080; font-weight: bold\">0.128433</span>\n",
       "</pre>\n"
      ],
      "text/plain": [
       "lbph : \u001b[1;36m0.128433\u001b[0m\n"
      ]
     },
     "metadata": {},
     "output_type": "display_data"
    },
    {
     "data": {
      "text/html": [
       "<pre style=\"white-space:pre;overflow-x:auto;line-height:normal;font-family:Menlo,'DejaVu Sans Mono',consolas,'Courier New',monospace\">svi : <span style=\"color: #008080; text-decoration-color: #008080; font-weight: bold\">0.000000</span>\n",
       "</pre>\n"
      ],
      "text/plain": [
       "svi : \u001b[1;36m0.000000\u001b[0m\n"
      ]
     },
     "metadata": {},
     "output_type": "display_data"
    },
    {
     "data": {
      "text/html": [
       "<pre style=\"white-space:pre;overflow-x:auto;line-height:normal;font-family:Menlo,'DejaVu Sans Mono',consolas,'Courier New',monospace\">lcp : <span style=\"color: #008080; text-decoration-color: #008080; font-weight: bold\">-0.000000</span>\n",
       "</pre>\n"
      ],
      "text/plain": [
       "lcp : \u001b[1;36m-0.000000\u001b[0m\n"
      ]
     },
     "metadata": {},
     "output_type": "display_data"
    },
    {
     "data": {
      "text/html": [
       "<pre style=\"white-space:pre;overflow-x:auto;line-height:normal;font-family:Menlo,'DejaVu Sans Mono',consolas,'Courier New',monospace\">gleason : <span style=\"color: #008080; text-decoration-color: #008080; font-weight: bold\">-0.000000</span>\n",
       "</pre>\n"
      ],
      "text/plain": [
       "gleason : \u001b[1;36m-0.000000\u001b[0m\n"
      ]
     },
     "metadata": {},
     "output_type": "display_data"
    },
    {
     "data": {
      "text/html": [
       "<pre style=\"white-space:pre;overflow-x:auto;line-height:normal;font-family:Menlo,'DejaVu Sans Mono',consolas,'Courier New',monospace\">pgg45 : <span style=\"color: #008080; text-decoration-color: #008080; font-weight: bold\">0.007727</span>\n",
       "</pre>\n"
      ],
      "text/plain": [
       "pgg45 : \u001b[1;36m0.007727\u001b[0m\n"
      ]
     },
     "metadata": {},
     "output_type": "display_data"
    }
   ],
   "source": [
    "reg_lasso = linear_model.Lasso(alpha=0.1)\n",
    "reg_lasso.fit(X_train, Y_train)\n",
    "printFeatureWeights(features, reg_lasso.coef_.flatten())"
   ]
  },
  {
   "cell_type": "markdown",
   "metadata": {
    "id": "pVB9sLc65fDM"
   },
   "source": [
    "### (b)\n",
    "(8 points)\n",
    "Now we will find a good value of alpha using cross-validation.  Due to differences in how the LASSO model is optimized, there are dedicated methods for performing cross-validation on LASSO.  Scikit-Learn's LassoLarsCV class performs LASSO-specific cross-validation using an optimized [Least Angle Regression](https://en.wikipedia.org/wiki/Least-angle_regression) (LARS) algorithm.  In the cell below do the following,\n",
    "* Using LassoLarsCV perform 20-fold cross validation to solve all solution paths for Lasso\n",
    "* Plot mean +/- standard error of **mean squared error** versus regularization coefficient $\\alpha$\n",
    "* Title the plot and axes\n",
    "* Report the best alpha value and the corresponding average mean squared error from cross-validation\n",
    "\n",
    "Note: LassoLarsCV returns mean squared error, rather than $R^2$.  It also determines the set of $\\alpha$ values automatically, which are stored in the cv_alphas_ attribute.\n",
    "\n",
    "[Documentation - Scikit-Learn - LassoLarsCV](https://scikit-learn.org/stable/modules/generated/sklearn.linear_model.LassoLarsCV.html)"
   ]
  },
  {
   "cell_type": "code",
   "execution_count": null,
   "metadata": {
    "colab": {
     "base_uri": "https://localhost:8080/",
     "height": 493
    },
    "id": "_GkcB0rKWEyS",
    "outputId": "247c58f6-577e-4871-cd1f-bb43c6c066b6"
   },
   "outputs": [
    {
     "data": {
      "text/html": [
       "<pre style=\"white-space:pre;overflow-x:auto;line-height:normal;font-family:Menlo,'DejaVu Sans Mono',consolas,'Courier New',monospace\">Best α: <span style=\"color: #008080; text-decoration-color: #008080; font-weight: bold\">0.0133</span> <span style=\"font-weight: bold\">(</span>MSE: <span style=\"color: #008080; text-decoration-color: #008080; font-weight: bold\">0.5797</span><span style=\"font-weight: bold\">)</span>\n",
       "</pre>\n"
      ],
      "text/plain": [
       "Best α: \u001b[1;36m0.0133\u001b[0m \u001b[1m(\u001b[0mMSE: \u001b[1;36m0.5797\u001b[0m\u001b[1m)\u001b[0m\n"
      ]
     },
     "metadata": {},
     "output_type": "display_data"
    },
    {
     "data": {
      "image/png": "[encoded data removed]",
      "text/plain": [
       "<Figure size 640x480 with 1 Axes>"
      ]
     },
     "metadata": {},
     "output_type": "display_data"
    }
   ],
   "source": [
    "reg_lasso_lars = linear_model.LassoLarsCV(cv=20)\n",
    "reg_lasso_lars.fit(X_train, Y_train)\n",
    "\n",
    "# plot the MSE for each α value\n",
    "plt.errorbar(\n",
    "    reg_lasso_lars.cv_alphas_,  # = α values\n",
    "    reg_lasso_lars.mse_path_.mean(axis=1),  # = mean of MSE for each α across 20 folds\n",
    "    yerr=reg_lasso_lars.mse_path_.std(\n",
    "        axis=1\n",
    "    ),  # = standard deviation of MSE for each α across 20 folds\n",
    "    fmt=\"-\",\n",
    "    capsize=2,\n",
    "    ecolor=\"lightblue\",\n",
    ")\n",
    "plt.xscale(\"log\")\n",
    "plt.title(\"Lasso Lars - MSE vs α\")\n",
    "plt.xlabel(\"reg_lasso_larsularization Coefficient α (log scale)\")\n",
    "plt.ylabel(\"Average MSE for 20-fold CV\")\n",
    "\n",
    "# report the best alpha and the corresponding MSE\n",
    "best_alpha_lasso = reg_lasso_lars.alpha_\n",
    "best_mse_lasso = reg_lasso_lars.mse_path_.mean(axis=1)[\n",
    "    np.where(reg_lasso_lars.cv_alphas_ == best_alpha_lasso)\n",
    "][0]\n",
    "print(f\"Best α: {best_alpha_lasso:.4f} (MSE: {best_mse_lasso:.4f})\")\n",
    "\n",
    "# highlight best alpha on plot\n",
    "# plt.axvline(best_alpha_lasso, color=\"red\", linestyle=\"--\")\n",
    "# plt.text(\n",
    "#     best_alpha_lasso,\n",
    "#     best_mse_lasso,\n",
    "#     f\"Best α: {best_alpha_lasso:.4f}\",\n",
    "#     rotation=90,\n",
    "#     va=\"bottom\",\n",
    "#     ha=\"right\",\n",
    "# );"
   ]
  },
  {
   "cell_type": "markdown",
   "metadata": {
    "id": "Yx6Moj3hdhox"
   },
   "source": [
    "## Problem 5 : Evaluate on Test\n",
    "\n",
    "In this problem we will train all of the best performing models chosen by Best Subsets, Ridge Regression, and LASSO.  We will evaluate and compare these models on the test data.  This dataset uses a standard train / test split so we begin by loading test data below."
   ]
  },
  {
   "cell_type": "code",
   "execution_count": null,
   "metadata": {
    "colab": {
     "base_uri": "https://localhost:8080/",
     "height": 206
    },
    "id": "hbrUoMTEQ3v6",
    "outputId": "09ed026f-40c1-43dd-de2c-598fe3056cb5"
   },
   "outputs": [
    {
     "data": {
      "application/vnd.google.colaboratory.intrinsic+json": {
       "summary": "{\n  \"name\": \"df_test\",\n  \"rows\": 30,\n  \"fields\": [\n    {\n      \"column\": \"lcavol\",\n      \"properties\": {\n        \"dtype\": \"number\",\n        \"std\": 1.036640854284571,\n        \"min\": -0.776528789,\n        \"max\": 3.471966453,\n        \"num_unique_values\": 30,\n        \"samples\": [\n          -0.776528789,\n          3.153590358,\n          1.446918983\n        ],\n        \"semantic_type\": \"\",\n        \"description\": \"\"\n      }\n    },\n    {\n      \"column\": \"lweight\",\n      \"properties\": {\n        \"dtype\": \"number\",\n        \"std\": 0.30091502147608906,\n        \"min\": 2.865054,\n        \"max\": 4.121473,\n        \"num_unique_values\": 30,\n        \"samples\": [\n          3.539509,\n          3.516013,\n          3.124565\n        ],\n        \"semantic_type\": \"\",\n        \"description\": \"\"\n      }\n    },\n    {\n      \"column\": \"age\",\n      \"properties\": {\n        \"dtype\": \"number\",\n        \"std\": 7,\n        \"min\": 43,\n        \"max\": 70,\n        \"num_unique_values\": 16,\n        \"samples\": [\n          66,\n          69,\n          43\n        ],\n        \"semantic_type\": \"\",\n        \"description\": \"\"\n      }\n    },\n    {\n      \"column\": \"lbph\",\n      \"properties\": {\n        \"dtype\": \"number\",\n        \"std\": 1.4442829380563718,\n        \"min\": -1.38629436,\n        \"max\": 2.17133681,\n        \"num_unique_values\": 17,\n        \"samples\": [\n          2.00821403,\n          -1.38629436,\n          1.37371558\n        ],\n        \"semantic_type\": \"\",\n        \"description\": \"\"\n      }\n    },\n    {\n      \"column\": \"svi\",\n      \"properties\": {\n        \"dtype\": \"number\",\n        \"std\": 0,\n        \"min\": 0,\n        \"max\": 1,\n        \"num_unique_values\": 2,\n        \"samples\": [\n          0,\n          1\n        ],\n        \"semantic_type\": \"\",\n        \"description\": \"\"\n      }\n    },\n    {\n      \"column\": \"lcp\",\n      \"properties\": {\n        \"dtype\": \"number\",\n        \"std\": 1.4133717089072797,\n        \"min\": -1.38629436,\n        \"max\": 2.90416508,\n        \"num_unique_values\": 16,\n        \"samples\": [\n          2.1102132,\n          0.22314355\n        ],\n        \"semantic_type\": \"\",\n        \"description\": \"\"\n      }\n    },\n    {\n      \"column\": \"gleason\",\n      \"properties\": {\n        \"dtype\": \"number\",\n        \"std\": 0,\n        \"min\": 6,\n        \"max\": 9,\n        \"num_unique_values\": 3,\n        \"samples\": [\n          7,\n          9\n        ],\n        \"semantic_type\": \"\",\n        \"description\": \"\"\n      }\n    },\n    {\n      \"column\": \"pgg45\",\n      \"properties\": {\n        \"dtype\": \"number\",\n        \"std\": 25,\n        \"min\": 0,\n        \"max\": 90,\n        \"num_unique_values\": 11,\n        \"samples\": [\n          50,\n          60\n        ],\n        \"semantic_type\": \"\",\n        \"description\": \"\"\n      }\n    },\n    {\n      \"column\": \"lpsa\",\n      \"properties\": {\n        \"dtype\": \"number\",\n        \"std\": 1.0420354510633547,\n        \"min\": 0.7654678,\n        \"max\": 5.5829322,\n        \"num_unique_values\": 27,\n        \"samples\": [\n          2.8875901,\n          2.5687881\n        ],\n        \"semantic_type\": \"\",\n        \"description\": \"\"\n      }\n    }\n  ]\n}",
       "type": "dataframe",
       "variable_name": "df_test"
      },
      "text/html": [
       "\n",
       "  <div id=\"df-2ff2b267-3ce1-44d5-a304-d21a013a47de\" class=\"colab-df-container\">\n",
       "    <div>\n",
       "<style scoped>\n",
       "    .dataframe tbody tr th:only-of-type {\n",
       "        vertical-align: middle;\n",
       "    }\n",
       "\n",
       "    .dataframe tbody tr th {\n",
       "        vertical-align: top;\n",
       "    }\n",
       "\n",
       "    .dataframe thead th {\n",
       "        text-align: right;\n",
       "    }\n",
       "</style>\n",
       "<table border=\"1\" class=\"dataframe\">\n",
       "  <thead>\n",
       "    <tr style=\"text-align: right;\">\n",
       "      <th></th>\n",
       "      <th>lcavol</th>\n",
       "      <th>lweight</th>\n",
       "      <th>age</th>\n",
       "      <th>lbph</th>\n",
       "      <th>svi</th>\n",
       "      <th>lcp</th>\n",
       "      <th>gleason</th>\n",
       "      <th>pgg45</th>\n",
       "      <th>lpsa</th>\n",
       "    </tr>\n",
       "  </thead>\n",
       "  <tbody>\n",
       "    <tr>\n",
       "      <th>21</th>\n",
       "      <td>2.034706</td>\n",
       "      <td>3.917011</td>\n",
       "      <td>66</td>\n",
       "      <td>2.008214</td>\n",
       "      <td>1</td>\n",
       "      <td>2.110213</td>\n",
       "      <td>7</td>\n",
       "      <td>60</td>\n",
       "      <td>2.882004</td>\n",
       "    </tr>\n",
       "    <tr>\n",
       "      <th>24</th>\n",
       "      <td>1.214913</td>\n",
       "      <td>3.825375</td>\n",
       "      <td>69</td>\n",
       "      <td>-1.386294</td>\n",
       "      <td>1</td>\n",
       "      <td>0.223144</td>\n",
       "      <td>7</td>\n",
       "      <td>20</td>\n",
       "      <td>3.056357</td>\n",
       "    </tr>\n",
       "    <tr>\n",
       "      <th>17</th>\n",
       "      <td>2.127041</td>\n",
       "      <td>4.121473</td>\n",
       "      <td>68</td>\n",
       "      <td>1.766442</td>\n",
       "      <td>0</td>\n",
       "      <td>1.446919</td>\n",
       "      <td>7</td>\n",
       "      <td>40</td>\n",
       "      <td>2.691243</td>\n",
       "    </tr>\n",
       "    <tr>\n",
       "      <th>27</th>\n",
       "      <td>2.677591</td>\n",
       "      <td>3.838376</td>\n",
       "      <td>65</td>\n",
       "      <td>1.115142</td>\n",
       "      <td>0</td>\n",
       "      <td>1.749200</td>\n",
       "      <td>9</td>\n",
       "      <td>70</td>\n",
       "      <td>3.570940</td>\n",
       "    </tr>\n",
       "    <tr>\n",
       "      <th>7</th>\n",
       "      <td>-0.400478</td>\n",
       "      <td>3.865979</td>\n",
       "      <td>67</td>\n",
       "      <td>1.816452</td>\n",
       "      <td>0</td>\n",
       "      <td>-1.386294</td>\n",
       "      <td>7</td>\n",
       "      <td>20</td>\n",
       "      <td>1.816452</td>\n",
       "    </tr>\n",
       "  </tbody>\n",
       "</table>\n",
       "</div>\n",
       "    <div class=\"colab-df-buttons\">\n",
       "\n",
       "  <div class=\"colab-df-container\">\n",
       "    <button class=\"colab-df-convert\" onclick=\"convertToInteractive('df-2ff2b267-3ce1-44d5-a304-d21a013a47de')\"\n",
       "            title=\"Convert this dataframe to an interactive table.\"\n",
       "            style=\"display:none;\">\n",
       "\n",
       "  <svg xmlns=\"http://www.w3.org/2000/svg\" height=\"24px\" viewBox=\"0 -960 960 960\">\n",
       "    <path d=\"M120-120v-720h720v720H120Zm60-500h600v-160H180v160Zm220 220h160v-160H400v160Zm0 220h160v-160H400v160ZM180-400h160v-160H180v160Zm440 0h160v-160H620v160ZM180-180h160v-160H180v160Zm440 0h160v-160H620v160Z\"/>\n",
       "  </svg>\n",
       "    </button>\n",
       "\n",
       "  <style>\n",
       "    .colab-df-container {\n",
       "      display:flex;\n",
       "      gap: 12px;\n",
       "    }\n",
       "\n",
       "    .colab-df-convert {\n",
       "      background-color: #E8F0FE;\n",
       "      border: none;\n",
       "      border-radius: 50%;\n",
       "      cursor: pointer;\n",
       "      display: none;\n",
       "      fill: #1967D2;\n",
       "      height: 32px;\n",
       "      padding: 0 0 0 0;\n",
       "      width: 32px;\n",
       "    }\n",
       "\n",
       "    .colab-df-convert:hover {\n",
       "      background-color: #E2EBFA;\n",
       "      box-shadow: 0px 1px 2px rgba(60, 64, 67, 0.3), 0px 1px 3px 1px rgba(60, 64, 67, 0.15);\n",
       "      fill: #174EA6;\n",
       "    }\n",
       "\n",
       "    .colab-df-buttons div {\n",
       "      margin-bottom: 4px;\n",
       "    }\n",
       "\n",
       "    [theme=dark] .colab-df-convert {\n",
       "      background-color: #3B4455;\n",
       "      fill: #D2E3FC;\n",
       "    }\n",
       "\n",
       "    [theme=dark] .colab-df-convert:hover {\n",
       "      background-color: #434B5C;\n",
       "      box-shadow: 0px 1px 3px 1px rgba(0, 0, 0, 0.15);\n",
       "      filter: drop-shadow(0px 1px 2px rgba(0, 0, 0, 0.3));\n",
       "      fill: #FFFFFF;\n",
       "    }\n",
       "  </style>\n",
       "\n",
       "    <script>\n",
       "      const buttonEl =\n",
       "        document.querySelector('#df-2ff2b267-3ce1-44d5-a304-d21a013a47de button.colab-df-convert');\n",
       "      buttonEl.style.display =\n",
       "        google.colab.kernel.accessAllowed ? 'block' : 'none';\n",
       "\n",
       "      async function convertToInteractive(key) {\n",
       "        const element = document.querySelector('#df-2ff2b267-3ce1-44d5-a304-d21a013a47de');\n",
       "        const dataTable =\n",
       "          await google.colab.kernel.invokeFunction('convertToInteractive',\n",
       "                                                    [key], {});\n",
       "        if (!dataTable) return;\n",
       "\n",
       "        const docLinkHtml = 'Like what you see? Visit the ' +\n",
       "          '<a target=\"_blank\" href=https://colab.research.google.com/notebooks/data_table.ipynb>data table notebook</a>'\n",
       "          + ' to learn more about interactive tables.';\n",
       "        element.innerHTML = '';\n",
       "        dataTable['output_type'] = 'display_data';\n",
       "        await google.colab.output.renderOutput(dataTable, element);\n",
       "        const docLink = document.createElement('div');\n",
       "        docLink.innerHTML = docLinkHtml;\n",
       "        element.appendChild(docLink);\n",
       "      }\n",
       "    </script>\n",
       "  </div>\n",
       "\n",
       "\n",
       "<div id=\"df-b027eb1c-2683-4522-98e2-605890162805\">\n",
       "  <button class=\"colab-df-quickchart\" onclick=\"quickchart('df-b027eb1c-2683-4522-98e2-605890162805')\"\n",
       "            title=\"Suggest charts\"\n",
       "            style=\"display:none;\">\n",
       "\n",
       "<svg xmlns=\"http://www.w3.org/2000/svg\" height=\"24px\"viewBox=\"0 0 24 24\"\n",
       "     width=\"24px\">\n",
       "    <g>\n",
       "        <path d=\"M19 3H5c-1.1 0-2 .9-2 2v14c0 1.1.9 2 2 2h14c1.1 0 2-.9 2-2V5c0-1.1-.9-2-2-2zM9 17H7v-7h2v7zm4 0h-2V7h2v10zm4 0h-2v-4h2v4z\"/>\n",
       "    </g>\n",
       "</svg>\n",
       "  </button>\n",
       "\n",
       "<style>\n",
       "  .colab-df-quickchart {\n",
       "      --bg-color: #E8F0FE;\n",
       "      --fill-color: #1967D2;\n",
       "      --hover-bg-color: #E2EBFA;\n",
       "      --hover-fill-color: #174EA6;\n",
       "      --disabled-fill-color: #AAA;\n",
       "      --disabled-bg-color: #DDD;\n",
       "  }\n",
       "\n",
       "  [theme=dark] .colab-df-quickchart {\n",
       "      --bg-color: #3B4455;\n",
       "      --fill-color: #D2E3FC;\n",
       "      --hover-bg-color: #434B5C;\n",
       "      --hover-fill-color: #FFFFFF;\n",
       "      --disabled-bg-color: #3B4455;\n",
       "      --disabled-fill-color: #666;\n",
       "  }\n",
       "\n",
       "  .colab-df-quickchart {\n",
       "    background-color: var(--bg-color);\n",
       "    border: none;\n",
       "    border-radius: 50%;\n",
       "    cursor: pointer;\n",
       "    display: none;\n",
       "    fill: var(--fill-color);\n",
       "    height: 32px;\n",
       "    padding: 0;\n",
       "    width: 32px;\n",
       "  }\n",
       "\n",
       "  .colab-df-quickchart:hover {\n",
       "    background-color: var(--hover-bg-color);\n",
       "    box-shadow: 0 1px 2px rgba(60, 64, 67, 0.3), 0 1px 3px 1px rgba(60, 64, 67, 0.15);\n",
       "    fill: var(--button-hover-fill-color);\n",
       "  }\n",
       "\n",
       "  .colab-df-quickchart-complete:disabled,\n",
       "  .colab-df-quickchart-complete:disabled:hover {\n",
       "    background-color: var(--disabled-bg-color);\n",
       "    fill: var(--disabled-fill-color);\n",
       "    box-shadow: none;\n",
       "  }\n",
       "\n",
       "  .colab-df-spinner {\n",
       "    border: 2px solid var(--fill-color);\n",
       "    border-color: transparent;\n",
       "    border-bottom-color: var(--fill-color);\n",
       "    animation:\n",
       "      spin 1s steps(1) infinite;\n",
       "  }\n",
       "\n",
       "  @keyframes spin {\n",
       "    0% {\n",
       "      border-color: transparent;\n",
       "      border-bottom-color: var(--fill-color);\n",
       "      border-left-color: var(--fill-color);\n",
       "    }\n",
       "    20% {\n",
       "      border-color: transparent;\n",
       "      border-left-color: var(--fill-color);\n",
       "      border-top-color: var(--fill-color);\n",
       "    }\n",
       "    30% {\n",
       "      border-color: transparent;\n",
       "      border-left-color: var(--fill-color);\n",
       "      border-top-color: var(--fill-color);\n",
       "      border-right-color: var(--fill-color);\n",
       "    }\n",
       "    40% {\n",
       "      border-color: transparent;\n",
       "      border-right-color: var(--fill-color);\n",
       "      border-top-color: var(--fill-color);\n",
       "    }\n",
       "    60% {\n",
       "      border-color: transparent;\n",
       "      border-right-color: var(--fill-color);\n",
       "    }\n",
       "    80% {\n",
       "      border-color: transparent;\n",
       "      border-right-color: var(--fill-color);\n",
       "      border-bottom-color: var(--fill-color);\n",
       "    }\n",
       "    90% {\n",
       "      border-color: transparent;\n",
       "      border-bottom-color: var(--fill-color);\n",
       "    }\n",
       "  }\n",
       "</style>\n",
       "\n",
       "  <script>\n",
       "    async function quickchart(key) {\n",
       "      const quickchartButtonEl =\n",
       "        document.querySelector('#' + key + ' button');\n",
       "      quickchartButtonEl.disabled = true;  // To prevent multiple clicks.\n",
       "      quickchartButtonEl.classList.add('colab-df-spinner');\n",
       "      try {\n",
       "        const charts = await google.colab.kernel.invokeFunction(\n",
       "            'suggestCharts', [key], {});\n",
       "      } catch (error) {\n",
       "        console.error('Error during call to suggestCharts:', error);\n",
       "      }\n",
       "      quickchartButtonEl.classList.remove('colab-df-spinner');\n",
       "      quickchartButtonEl.classList.add('colab-df-quickchart-complete');\n",
       "    }\n",
       "    (() => {\n",
       "      let quickchartButtonEl =\n",
       "        document.querySelector('#df-b027eb1c-2683-4522-98e2-605890162805 button');\n",
       "      quickchartButtonEl.style.display =\n",
       "        google.colab.kernel.accessAllowed ? 'block' : 'none';\n",
       "    })();\n",
       "  </script>\n",
       "</div>\n",
       "\n",
       "    </div>\n",
       "  </div>\n"
      ],
      "text/plain": [
       "      lcavol   lweight  age      lbph  svi       lcp  gleason  pgg45      lpsa\n",
       "21  2.034706  3.917011   66  2.008214    1  2.110213        7     60  2.882004\n",
       "24  1.214913  3.825375   69 -1.386294    1  0.223144        7     20  3.056357\n",
       "17  2.127041  4.121473   68  1.766442    0  1.446919        7     40  2.691243\n",
       "27  2.677591  3.838376   65  1.115142    0  1.749200        9     70  3.570940\n",
       "7  -0.400478  3.865979   67  1.816452    0 -1.386294        7     20  1.816452"
      ]
     },
     "execution_count": 13,
     "metadata": {},
     "output_type": "execute_result"
    }
   ],
   "source": [
    "# this assumes you have downloaded the test dataset to the My Drive/datasets folder.\n",
    "df_test = pd.read_csv('/content/drive/My Drive/datasets/prostate_test.csv')\n",
    "df_test = shuffle(df_test)\n",
    "df_test.head()"
   ]
  },
  {
   "cell_type": "markdown",
   "metadata": {
    "id": "aXwCoLW15gsF"
   },
   "source": [
    "### (a)\n",
    "(5 points)\n",
    "Recall that all of the data are stored in a single table, with the final column being the output 'lpsa'.  Before evaluating on test you must first create X_test and Y_test input/outputs where Y_test is the final column of the DataFrame, and X_test contains all other columns."
   ]
  },
  {
   "cell_type": "code",
   "execution_count": null,
   "metadata": {
    "id": "qTUygZw_5gsF"
   },
   "outputs": [],
   "source": [
    "features = ['lcavol', 'lweight', 'age', 'lbph', 'svi', 'lcp', 'gleason', 'pgg45']\n",
    "output = ['lpsa']\n",
    "\n",
    "X_test = df_test[features].copy()\n",
    "Y_test = df_test[output].copy()"
   ]
  },
  {
   "cell_type": "markdown",
   "metadata": {
    "id": "y5RrdBTFEsYS"
   },
   "source": [
    "### (b) Best Subsets  \n",
    "(8 points)\n",
    "In Problem 2 you found the best subset of features for an ordinary least squares regression model by enumerating all feature subsets.  Using the best selected features train the model below and report mean squared error and $R^2$ on the test set."
   ]
  },
  {
   "cell_type": "code",
   "execution_count": null,
   "metadata": {
    "colab": {
     "base_uri": "https://localhost:8080/",
     "height": 578
    },
    "id": "JgzXx_9-skMe",
    "outputId": "f8cb93e2-3a8f-4bd7-c12c-0f3692c4eab2"
   },
   "outputs": [
    {
     "data": {
      "text/html": [
       "<pre style=\"white-space:pre;overflow-x:auto;line-height:normal;font-family:Menlo,'DejaVu Sans Mono',consolas,'Courier New',monospace\">Best Subsets:\n",
       "        Features Used: <span style=\"font-weight: bold\">(</span><span style=\"color: #008000; text-decoration-color: #008000\">'lcavol'</span>, <span style=\"color: #008000; text-decoration-color: #008000\">'lweight'</span>, <span style=\"color: #008000; text-decoration-color: #008000\">'lbph'</span>, <span style=\"color: #008000; text-decoration-color: #008000\">'svi'</span><span style=\"font-weight: bold\">)</span>\n",
       "        Coefficients: <span style=\"font-weight: bold\">[[</span><span style=\"color: #008080; text-decoration-color: #008080; font-weight: bold\">0.50552085</span> <span style=\"color: #008080; text-decoration-color: #008080; font-weight: bold\">0.5388292</span>  <span style=\"color: #008080; text-decoration-color: #008080; font-weight: bold\">0.1400111</span>  <span style=\"color: #008080; text-decoration-color: #008080; font-weight: bold\">0.67184865</span><span style=\"font-weight: bold\">]]</span>\n",
       "        MSE: <span style=\"color: #008080; text-decoration-color: #008080; font-weight: bold\">0.456</span>\n",
       "        R²: <span style=\"color: #008080; text-decoration-color: #008080; font-weight: bold\">0.565</span>\n",
       "\n",
       "</pre>\n"
      ],
      "text/plain": [
       "Best Subsets:\n",
       "        Features Used: \u001b[1m(\u001b[0m\u001b[32m'lcavol'\u001b[0m, \u001b[32m'lweight'\u001b[0m, \u001b[32m'lbph'\u001b[0m, \u001b[32m'svi'\u001b[0m\u001b[1m)\u001b[0m\n",
       "        Coefficients: \u001b[1m[\u001b[0m\u001b[1m[\u001b[0m\u001b[1;36m0.50552085\u001b[0m \u001b[1;36m0.5388292\u001b[0m  \u001b[1;36m0.1400111\u001b[0m  \u001b[1;36m0.67184865\u001b[0m\u001b[1m]\u001b[0m\u001b[1m]\u001b[0m\n",
       "        MSE: \u001b[1;36m0.456\u001b[0m\n",
       "        R²: \u001b[1;36m0.565\u001b[0m\n",
       "\n"
      ]
     },
     "metadata": {},
     "output_type": "display_data"
    },
    {
     "data": {
      "text/html": [
       "<pre style=\"white-space:pre;overflow-x:auto;line-height:normal;font-family:Menlo,'DejaVu Sans Mono',consolas,'Courier New',monospace\">                            OLS Regression Results                            \n",
       "==============================================================================\n",
       "Dep. Variable:                   lpsa   R-squared:                       <span style=\"color: #008080; text-decoration-color: #008080; font-weight: bold\">0.659</span>\n",
       "Model:                            OLS   Adj. R-squared:                  <span style=\"color: #008080; text-decoration-color: #008080; font-weight: bold\">0.637</span>\n",
       "Method:                 Least Squares   F-statistic:                     <span style=\"color: #008080; text-decoration-color: #008080; font-weight: bold\">29.98</span>\n",
       "Date:                Mon, <span style=\"color: #008080; text-decoration-color: #008080; font-weight: bold\">25</span> Nov <span style=\"color: #008080; text-decoration-color: #008080; font-weight: bold\">2024</span>   Prob <span style=\"font-weight: bold\">(</span>F-statistic<span style=\"font-weight: bold\">)</span>:           <span style=\"color: #008080; text-decoration-color: #008080; font-weight: bold\">6.91e-14</span>\n",
       "Time:                        <span style=\"color: #00ff00; text-decoration-color: #00ff00; font-weight: bold\">03:29:59</span>   Log-Likelihood:                <span style=\"color: #008080; text-decoration-color: #008080; font-weight: bold\">-71.156</span>\n",
       "No. Observations:                  <span style=\"color: #008080; text-decoration-color: #008080; font-weight: bold\">67</span>   AIC:                             <span style=\"color: #008080; text-decoration-color: #008080; font-weight: bold\">152.3</span>\n",
       "Df Residuals:                      <span style=\"color: #008080; text-decoration-color: #008080; font-weight: bold\">62</span>   BIC:                             <span style=\"color: #008080; text-decoration-color: #008080; font-weight: bold\">163.3</span>\n",
       "Df Model:                           <span style=\"color: #008080; text-decoration-color: #008080; font-weight: bold\">4</span>                                         \n",
       "Covariance Type:            nonrobust                                         \n",
       "==============================================================================\n",
       "                 coef    std err          t      P&gt;|t|      <span style=\"font-weight: bold\">[</span><span style=\"color: #008080; text-decoration-color: #008080; font-weight: bold\">0.025</span>      <span style=\"color: #008080; text-decoration-color: #008080; font-weight: bold\">0.975</span><span style=\"font-weight: bold\">]</span>\n",
       "------------------------------------------------------------------------------\n",
       "const         <span style=\"color: #008080; text-decoration-color: #008080; font-weight: bold\">-0.3259</span>      <span style=\"color: #008080; text-decoration-color: #008080; font-weight: bold\">0.780</span>     <span style=\"color: #008080; text-decoration-color: #008080; font-weight: bold\">-0.418</span>      <span style=\"color: #008080; text-decoration-color: #008080; font-weight: bold\">0.677</span>      <span style=\"color: #008080; text-decoration-color: #008080; font-weight: bold\">-1.885</span>       <span style=\"color: #008080; text-decoration-color: #008080; font-weight: bold\">1.233</span>\n",
       "lcavol         <span style=\"color: #008080; text-decoration-color: #008080; font-weight: bold\">0.5055</span>      <span style=\"color: #008080; text-decoration-color: #008080; font-weight: bold\">0.093</span>      <span style=\"color: #008080; text-decoration-color: #008080; font-weight: bold\">5.461</span>      <span style=\"color: #008080; text-decoration-color: #008080; font-weight: bold\">0.000</span>       <span style=\"color: #008080; text-decoration-color: #008080; font-weight: bold\">0.320</span>       <span style=\"color: #008080; text-decoration-color: #008080; font-weight: bold\">0.691</span>\n",
       "lweight        <span style=\"color: #008080; text-decoration-color: #008080; font-weight: bold\">0.5388</span>      <span style=\"color: #008080; text-decoration-color: #008080; font-weight: bold\">0.221</span>      <span style=\"color: #008080; text-decoration-color: #008080; font-weight: bold\">2.441</span>      <span style=\"color: #008080; text-decoration-color: #008080; font-weight: bold\">0.018</span>       <span style=\"color: #008080; text-decoration-color: #008080; font-weight: bold\">0.098</span>       <span style=\"color: #008080; text-decoration-color: #008080; font-weight: bold\">0.980</span>\n",
       "lbph           <span style=\"color: #008080; text-decoration-color: #008080; font-weight: bold\">0.1400</span>      <span style=\"color: #008080; text-decoration-color: #008080; font-weight: bold\">0.070</span>      <span style=\"color: #008080; text-decoration-color: #008080; font-weight: bold\">1.988</span>      <span style=\"color: #008080; text-decoration-color: #008080; font-weight: bold\">0.051</span>      <span style=\"color: #008080; text-decoration-color: #008080; font-weight: bold\">-0.001</span>       <span style=\"color: #008080; text-decoration-color: #008080; font-weight: bold\">0.281</span>\n",
       "svi            <span style=\"color: #008080; text-decoration-color: #008080; font-weight: bold\">0.6718</span>      <span style=\"color: #008080; text-decoration-color: #008080; font-weight: bold\">0.273</span>      <span style=\"color: #008080; text-decoration-color: #008080; font-weight: bold\">2.459</span>      <span style=\"color: #008080; text-decoration-color: #008080; font-weight: bold\">0.017</span>       <span style=\"color: #008080; text-decoration-color: #008080; font-weight: bold\">0.126</span>       <span style=\"color: #008080; text-decoration-color: #008080; font-weight: bold\">1.218</span>\n",
       "==============================================================================\n",
       "Omnibus:                        <span style=\"color: #008080; text-decoration-color: #008080; font-weight: bold\">0.907</span>   Durbin-Watson:                   <span style=\"color: #008080; text-decoration-color: #008080; font-weight: bold\">1.794</span>\n",
       "<span style=\"color: #800080; text-decoration-color: #800080; font-weight: bold\">Prob</span><span style=\"font-weight: bold\">(</span>Omnibus<span style=\"font-weight: bold\">)</span>:                  <span style=\"color: #008080; text-decoration-color: #008080; font-weight: bold\">0.635</span>   Jarque-Bera <span style=\"font-weight: bold\">(</span>JB<span style=\"font-weight: bold\">)</span>:                <span style=\"color: #008080; text-decoration-color: #008080; font-weight: bold\">0.732</span>\n",
       "Skew:                          <span style=\"color: #008080; text-decoration-color: #008080; font-weight: bold\">-0.254</span>   <span style=\"color: #800080; text-decoration-color: #800080; font-weight: bold\">Prob</span><span style=\"font-weight: bold\">(</span>JB<span style=\"font-weight: bold\">)</span>:                        <span style=\"color: #008080; text-decoration-color: #008080; font-weight: bold\">0.694</span>\n",
       "Kurtosis:                       <span style=\"color: #008080; text-decoration-color: #008080; font-weight: bold\">2.940</span>   Cond. No.                         <span style=\"color: #008080; text-decoration-color: #008080; font-weight: bold\">37.0</span>\n",
       "==============================================================================\n",
       "\n",
       "Notes:\n",
       "<span style=\"font-weight: bold\">[</span><span style=\"color: #008080; text-decoration-color: #008080; font-weight: bold\">1</span><span style=\"font-weight: bold\">]</span> Standard Errors assume that the covariance matrix of the errors is correctly specified.\n",
       "</pre>\n"
      ],
      "text/plain": [
       "                            OLS Regression Results                            \n",
       "==============================================================================\n",
       "Dep. Variable:                   lpsa   R-squared:                       \u001b[1;36m0.659\u001b[0m\n",
       "Model:                            OLS   Adj. R-squared:                  \u001b[1;36m0.637\u001b[0m\n",
       "Method:                 Least Squares   F-statistic:                     \u001b[1;36m29.98\u001b[0m\n",
       "Date:                Mon, \u001b[1;36m25\u001b[0m Nov \u001b[1;36m2024\u001b[0m   Prob \u001b[1m(\u001b[0mF-statistic\u001b[1m)\u001b[0m:           \u001b[1;36m6.91e-14\u001b[0m\n",
       "Time:                        \u001b[1;92m03:29:59\u001b[0m   Log-Likelihood:                \u001b[1;36m-71.156\u001b[0m\n",
       "No. Observations:                  \u001b[1;36m67\u001b[0m   AIC:                             \u001b[1;36m152.3\u001b[0m\n",
       "Df Residuals:                      \u001b[1;36m62\u001b[0m   BIC:                             \u001b[1;36m163.3\u001b[0m\n",
       "Df Model:                           \u001b[1;36m4\u001b[0m                                         \n",
       "Covariance Type:            nonrobust                                         \n",
       "==============================================================================\n",
       "                 coef    std err          t      P>|t|      \u001b[1m[\u001b[0m\u001b[1;36m0.025\u001b[0m      \u001b[1;36m0.975\u001b[0m\u001b[1m]\u001b[0m\n",
       "------------------------------------------------------------------------------\n",
       "const         \u001b[1;36m-0.3259\u001b[0m      \u001b[1;36m0.780\u001b[0m     \u001b[1;36m-0.418\u001b[0m      \u001b[1;36m0.677\u001b[0m      \u001b[1;36m-1.885\u001b[0m       \u001b[1;36m1.233\u001b[0m\n",
       "lcavol         \u001b[1;36m0.5055\u001b[0m      \u001b[1;36m0.093\u001b[0m      \u001b[1;36m5.461\u001b[0m      \u001b[1;36m0.000\u001b[0m       \u001b[1;36m0.320\u001b[0m       \u001b[1;36m0.691\u001b[0m\n",
       "lweight        \u001b[1;36m0.5388\u001b[0m      \u001b[1;36m0.221\u001b[0m      \u001b[1;36m2.441\u001b[0m      \u001b[1;36m0.018\u001b[0m       \u001b[1;36m0.098\u001b[0m       \u001b[1;36m0.980\u001b[0m\n",
       "lbph           \u001b[1;36m0.1400\u001b[0m      \u001b[1;36m0.070\u001b[0m      \u001b[1;36m1.988\u001b[0m      \u001b[1;36m0.051\u001b[0m      \u001b[1;36m-0.001\u001b[0m       \u001b[1;36m0.281\u001b[0m\n",
       "svi            \u001b[1;36m0.6718\u001b[0m      \u001b[1;36m0.273\u001b[0m      \u001b[1;36m2.459\u001b[0m      \u001b[1;36m0.017\u001b[0m       \u001b[1;36m0.126\u001b[0m       \u001b[1;36m1.218\u001b[0m\n",
       "==============================================================================\n",
       "Omnibus:                        \u001b[1;36m0.907\u001b[0m   Durbin-Watson:                   \u001b[1;36m1.794\u001b[0m\n",
       "\u001b[1;35mProb\u001b[0m\u001b[1m(\u001b[0mOmnibus\u001b[1m)\u001b[0m:                  \u001b[1;36m0.635\u001b[0m   Jarque-Bera \u001b[1m(\u001b[0mJB\u001b[1m)\u001b[0m:                \u001b[1;36m0.732\u001b[0m\n",
       "Skew:                          \u001b[1;36m-0.254\u001b[0m   \u001b[1;35mProb\u001b[0m\u001b[1m(\u001b[0mJB\u001b[1m)\u001b[0m:                        \u001b[1;36m0.694\u001b[0m\n",
       "Kurtosis:                       \u001b[1;36m2.940\u001b[0m   Cond. No.                         \u001b[1;36m37.0\u001b[0m\n",
       "==============================================================================\n",
       "\n",
       "Notes:\n",
       "\u001b[1m[\u001b[0m\u001b[1;36m1\u001b[0m\u001b[1m]\u001b[0m Standard Errors assume that the covariance matrix of the errors is correctly specified.\n"
      ]
     },
     "metadata": {},
     "output_type": "display_data"
    }
   ],
   "source": [
    "# use best combination of features from previous step to fit the model\n",
    "lr = linear_model.LinearRegression()\n",
    "lr.fit(X_train[list(best_feature_combo)], Y_train)\n",
    "\n",
    "# score the model's accuracy on the test data\n",
    "r2_best_subsets = lr.score(X_test[list(best_feature_combo)], Y_test)\n",
    "preds_best_subsets = lr.predict(X_test[list(best_feature_combo)])\n",
    "mse_best_subsets = sklearn.metrics.mean_squared_error(Y_test, preds_best_subsets)\n",
    "\n",
    "print(\n",
    "    \"Best Subsets:\",\n",
    "    f\"Features Used: {best_feature_combo}\",\n",
    "    f\"Coefficients: {lr.coef_}\",\n",
    "    f\"MSE: {mse_best_subsets:.3f}\",\n",
    "    f\"R²: {r2_best_subsets:.3f}\\n\",\n",
    "    sep=\"\\n\\t\",\n",
    ")\n",
    "\n",
    "# show an additional summary of the model\n",
    "X_train_sm = sm.add_constant(X_train[list(best_feature_combo)])\n",
    "model = sm.OLS(Y_train, X_train_sm).fit()\n",
    "print(model.summary())"
   ]
  },
  {
   "cell_type": "markdown",
   "metadata": {
    "id": "Xdtq9WWBGk2p"
   },
   "source": [
    "### (c) Ridge Regression\n",
    "(7 points)\n",
    "In the cell below, train a Ridge Regression model using the optimal regularization coefficient ($\\alpha$) found in Problem 3.  Report mean squared error and $R^2$ on the test set."
   ]
  },
  {
   "cell_type": "code",
   "execution_count": null,
   "metadata": {
    "colab": {
     "base_uri": "https://localhost:8080/",
     "height": 116
    },
    "id": "S9y4YfduGk2p",
    "outputId": "d066eb55-cc46-4098-87bc-81c4cb9913d7"
   },
   "outputs": [
    {
     "data": {
      "text/html": [
       "<pre style=\"white-space:pre;overflow-x:auto;line-height:normal;font-family:Menlo,'DejaVu Sans Mono',consolas,'Courier New',monospace\">Ridge Regression:\n",
       "        Coefficients:<span style=\"font-weight: bold\">[[</span> <span style=\"color: #008080; text-decoration-color: #008080; font-weight: bold\">0.57580028</span>  <span style=\"color: #008080; text-decoration-color: #008080; font-weight: bold\">0.56855039</span> <span style=\"color: #008080; text-decoration-color: #008080; font-weight: bold\">-0.01799031</span>  <span style=\"color: #008080; text-decoration-color: #008080; font-weight: bold\">0.14672924</span>  <span style=\"color: #008080; text-decoration-color: #008080; font-weight: bold\">0.62558079</span> <span style=\"color: #008080; text-decoration-color: #008080; font-weight: bold\">-0.17893287</span>\n",
       "  <span style=\"color: #008080; text-decoration-color: #008080; font-weight: bold\">-0.03866713</span>  <span style=\"color: #008080; text-decoration-color: #008080; font-weight: bold\">0.009537</span>  <span style=\"font-weight: bold\">]]</span>\n",
       "        alpha = <span style=\"color: #008080; text-decoration-color: #008080; font-weight: bold\">1.151</span>\n",
       "        MSE = <span style=\"color: #008080; text-decoration-color: #008080; font-weight: bold\">0.521</span>\n",
       "        R² = <span style=\"color: #008080; text-decoration-color: #008080; font-weight: bold\">0.503</span>\n",
       "</pre>\n"
      ],
      "text/plain": [
       "Ridge Regression:\n",
       "        Coefficients:\u001b[1m[\u001b[0m\u001b[1m[\u001b[0m \u001b[1;36m0.57580028\u001b[0m  \u001b[1;36m0.56855039\u001b[0m \u001b[1;36m-0.01799031\u001b[0m  \u001b[1;36m0.14672924\u001b[0m  \u001b[1;36m0.62558079\u001b[0m \u001b[1;36m-0.17893287\u001b[0m\n",
       "  \u001b[1;36m-0.03866713\u001b[0m  \u001b[1;36m0.009537\u001b[0m  \u001b[1m]\u001b[0m\u001b[1m]\u001b[0m\n",
       "        alpha = \u001b[1;36m1.151\u001b[0m\n",
       "        MSE = \u001b[1;36m0.521\u001b[0m\n",
       "        R² = \u001b[1;36m0.503\u001b[0m\n"
      ]
     },
     "metadata": {},
     "output_type": "display_data"
    }
   ],
   "source": [
    "# use best alpha value from previous step to fit the model\n",
    "reg_ridge = linear_model.Ridge(alpha=best_alpha_ridge)\n",
    "reg_ridge.fit(X_train, Y_train)\n",
    "\n",
    "# score the model's accuracy on the test data\n",
    "r2_ridge = reg_ridge.score(X_test, Y_test)\n",
    "preds_ridge = reg_ridge.predict(X_test)\n",
    "mse_ridge = sklearn.metrics.mean_squared_error(Y_test, preds_ridge)\n",
    "\n",
    "print(\n",
    "    \"Ridge Regression:\",\n",
    "    f\"Coefficients:{reg_ridge.coef_}\",\n",
    "    f\"alpha = {best_alpha_ridge:.3f}\",\n",
    "    f\"MSE = {mse_ridge:.3f}\",\n",
    "    f\"R² = {r2_ridge:.3f}\",\n",
    "    sep=\"\\n\\t\",\n",
    ")"
   ]
  },
  {
   "cell_type": "markdown",
   "metadata": {
    "id": "W5OYb_BHF5Mn"
   },
   "source": [
    "### (d) LASSO Regression\n",
    "(7 points)\n",
    "Now, train and evaluate your final model.  Train a Lasso regression using the optimal $\\alpha$ parameters from Problem 4 and report MSE and $R^2$ on the test set."
   ]
  },
  {
   "cell_type": "code",
   "execution_count": null,
   "metadata": {
    "colab": {
     "base_uri": "https://localhost:8080/",
     "height": 116
    },
    "id": "8Ms-CvC0F5Mp",
    "outputId": "364e1f5e-4b28-4c04-e6fb-5fc7ab20d3ff"
   },
   "outputs": [
    {
     "data": {
      "text/html": [
       "<pre style=\"white-space:pre;overflow-x:auto;line-height:normal;font-family:Menlo,'DejaVu Sans Mono',consolas,'Courier New',monospace\">Lasso Regression:\n",
       "        Coefficients:<span style=\"font-weight: bold\">[</span> <span style=\"color: #008080; text-decoration-color: #008080; font-weight: bold\">0.56495916</span>  <span style=\"color: #008080; text-decoration-color: #008080; font-weight: bold\">0.56459436</span> <span style=\"color: #008080; text-decoration-color: #008080; font-weight: bold\">-0.01759344</span>  <span style=\"color: #008080; text-decoration-color: #008080; font-weight: bold\">0.14145994</span>  <span style=\"color: #008080; text-decoration-color: #008080; font-weight: bold\">0.58873542</span> <span style=\"color: #008080; text-decoration-color: #008080; font-weight: bold\">-0.15528923</span>\n",
       " <span style=\"color: #008080; text-decoration-color: #008080; font-weight: bold\">-0</span>.          <span style=\"color: #008080; text-decoration-color: #008080; font-weight: bold\">0.00850953</span><span style=\"font-weight: bold\">]</span>\n",
       "        alpha = <span style=\"color: #008080; text-decoration-color: #008080; font-weight: bold\">0.013319554716352983</span>\n",
       "        MSE = <span style=\"color: #008080; text-decoration-color: #008080; font-weight: bold\">0.506</span>\n",
       "        R² = <span style=\"color: #008080; text-decoration-color: #008080; font-weight: bold\">0.517</span>\n",
       "</pre>\n"
      ],
      "text/plain": [
       "Lasso Regression:\n",
       "        Coefficients:\u001b[1m[\u001b[0m \u001b[1;36m0.56495916\u001b[0m  \u001b[1;36m0.56459436\u001b[0m \u001b[1;36m-0.01759344\u001b[0m  \u001b[1;36m0.14145994\u001b[0m  \u001b[1;36m0.58873542\u001b[0m \u001b[1;36m-0.15528923\u001b[0m\n",
       " \u001b[1;36m-0\u001b[0m.          \u001b[1;36m0.00850953\u001b[0m\u001b[1m]\u001b[0m\n",
       "        alpha = \u001b[1;36m0.013319554716352983\u001b[0m\n",
       "        MSE = \u001b[1;36m0.506\u001b[0m\n",
       "        R² = \u001b[1;36m0.517\u001b[0m\n"
      ]
     },
     "metadata": {},
     "output_type": "display_data"
    }
   ],
   "source": [
    "# use the optimal regularization coefficient from the previous step to fit the model\n",
    "reg_lasso = linear_model.Lasso(alpha=best_alpha_lasso)\n",
    "reg_lasso.fit(X_train, Y_train)\n",
    "\n",
    "# score the model's accuracy on the test data\n",
    "r2_lasso = reg_lasso.score(X_test, Y_test)\n",
    "preds_lasso = reg_lasso.predict(X_test)\n",
    "mse_lasso = sklearn.metrics.mean_squared_error(preds_lasso, Y_test)\n",
    "\n",
    "print(\n",
    "    \"Lasso Regression:\",\n",
    "    f\"Coefficients:{reg_lasso.coef_}\",\n",
    "    f\"alpha = {reg_lasso.alpha}\",\n",
    "    f\"MSE = {mse_lasso:.3f}\",\n",
    "    f\"R² = {r2_lasso:.3f}\",\n",
    "    sep=\"\\n\\t\",\n",
    ")"
   ]
  },
  {
   "cell_type": "markdown",
   "metadata": {
    "id": "KzCB3rhdI3iW"
   },
   "source": [
    "### (e) Compare feature weights for each model\n",
    "(8 points)\n",
    "Now let's compare the feature weight learned by each of the three models.  In the cell below, report the regression weights for each feature under Best Subset, Ridge, and Lasso models evaluated above.  To make the output easier to read, please use a Pandas DataFrame to display the data.  To do this, create a Pandas DataFrame where each column contains regression weights for one of the previous models, and then display that DataFrame in the standard fashion.  You should also provide feature names on each of the rows.\n",
    "\n",
    "[Documentation - Pandas - DataFrame](https://pandas.pydata.org/pandas-docs/stable/reference/api/pandas.DataFrame.html)"
   ]
  },
  {
   "cell_type": "code",
   "execution_count": null,
   "metadata": {
    "colab": {
     "base_uri": "https://localhost:8080/",
     "height": 333
    },
    "id": "usOZK73IMnuG",
    "outputId": "d2efa5d3-f191-4adf-de23-736fc4c51cd6"
   },
   "outputs": [
    {
     "ename": "NameError",
     "evalue": "name 'pd' is not defined",
     "output_type": "error",
     "traceback": [
      "\u001b[0;31m---------------------------------------------------------------------------\u001b[0m",
      "\u001b[0;31mNameError\u001b[0m                                 Traceback (most recent call last)",
      "Cell \u001b[0;32mIn[1], line 2\u001b[0m\n\u001b[1;32m      1\u001b[0m model_names \u001b[38;5;241m=\u001b[39m [\u001b[38;5;124m\"\u001b[39m\u001b[38;5;124mBest Subset Regression\u001b[39m\u001b[38;5;124m\"\u001b[39m, \u001b[38;5;124m\"\u001b[39m\u001b[38;5;124mRidge Regression\u001b[39m\u001b[38;5;124m\"\u001b[39m, \u001b[38;5;124m\"\u001b[39m\u001b[38;5;124mLasso Regression\u001b[39m\u001b[38;5;124m\"\u001b[39m]\n\u001b[0;32m----> 2\u001b[0m results_df \u001b[38;5;241m=\u001b[39m \u001b[43mpd\u001b[49m\u001b[38;5;241m.\u001b[39mDataFrame(\n\u001b[1;32m      3\u001b[0m     columns\u001b[38;5;241m=\u001b[39mmodel_names, index\u001b[38;5;241m=\u001b[39mfeatures\n\u001b[1;32m      4\u001b[0m )\n\u001b[1;32m      6\u001b[0m \u001b[38;5;28;01mfor\u001b[39;00m i, feature \u001b[38;5;129;01min\u001b[39;00m \u001b[38;5;28menumerate\u001b[39m(features):\n\u001b[1;32m      7\u001b[0m     results_df\u001b[38;5;241m.\u001b[39mloc[feature] \u001b[38;5;241m=\u001b[39m [\n\u001b[1;32m      8\u001b[0m         (\n\u001b[1;32m      9\u001b[0m             lr\u001b[38;5;241m.\u001b[39mcoef_[\u001b[38;5;241m0\u001b[39m][\u001b[38;5;28mlist\u001b[39m(best_feature_combo)\u001b[38;5;241m.\u001b[39mindex(feature)]\n\u001b[0;32m   (...)\u001b[0m\n\u001b[1;32m     14\u001b[0m         reg_lasso\u001b[38;5;241m.\u001b[39mcoef_[i],\n\u001b[1;32m     15\u001b[0m     ]\n",
      "\u001b[0;31mNameError\u001b[0m: name 'pd' is not defined"
     ]
    }
   ],
   "source": [
    "model_names = [\"Best Subset Regression\", \"Ridge Regression\", \"Lasso Regression\"]\n",
    "results_df = pd.DataFrame(\n",
    "    columns=model_names, index=features\n",
    ")\n",
    "\n",
    "for i, feature in enumerate(features):\n",
    "    results_df.loc[feature] = [\n",
    "        (\n",
    "            lr.coef_[0][list(best_feature_combo).index(feature)]\n",
    "            if feature in best_feature_combo\n",
    "            else 0\n",
    "        ),\n",
    "        reg_ridge.coef_[0][i],\n",
    "        reg_lasso.coef_[i],\n",
    "    ]\n",
    "\n",
    "# create another table comparing metrics\n",
    "# metrics_df = pd.DataFrame(\n",
    "#     columns=model_names, index=[\"MSE\", \"R²\"]\n",
    "# )\n",
    "# metrics_df.loc[\"MSE\"] = [mse_best_subsets, mse_ridge, mse_lasso]\n",
    "# metrics_df.loc[\"R²\"] = [r2_best_subsets, r2_ridge, r2_lasso]\n",
    "# print(\"Model performance metrics:\")\n",
    "# print(metrics_df)\n",
    "\n",
    "print(\"\\n\\nModel Feature weights:\")\n",
    "results_df"
   ]
  }
 ],
 "metadata": {
  "colab": {
   "provenance": []
  },
  "kernelspec": {
   "display_name": "venv",
   "language": "python",
   "name": "python3"
  },
  "language_info": {
   "codemirror_mode": {
    "name": "ipython",
    "version": 3
   },
   "file_extension": ".py",
   "mimetype": "text/x-python",
   "name": "python",
   "nbconvert_exporter": "python",
   "pygments_lexer": "ipython3",
   "version": "3.12.3"
  }
 },
 "nbformat": 4,
 "nbformat_minor": 0
}
