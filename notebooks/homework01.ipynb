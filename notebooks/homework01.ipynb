{
  "cells": [
    {
      "cell_type": "markdown",
      "metadata": {
        "id": "HpH8B1zlR142"
      },
      "source": [
        "# Question 02"
      ]
    },
    {
      "cell_type": "code",
      "execution_count": 5,
      "metadata": {
        "colab": {
          "base_uri": "https://localhost:8080/"
        },
        "id": "Ju2-ak4mH4H4",
        "outputId": "31c867a2-7495-4d88-9b68-1db34e299202"
      },
      "outputs": [
        {
          "data": {
            "text/plain": [
              "0.144"
            ]
          },
          "execution_count": 5,
          "metadata": {},
          "output_type": "execute_result"
        }
      ],
      "source": [
        "import numpy as np\n",
        "\n",
        "np.random.seed(2024)\n",
        "n = 1000\n",
        "dice = np.random.randint(1, 7, (n, 2))\n",
        "E = (dice.sum(axis=1) == 8).sum()\n",
        "P_E = E / n\n",
        "P_E"
      ]
    },
    {
      "cell_type": "markdown",
      "metadata": {
        "id": "WGByZ0DQR5ue"
      },
      "source": [
        "# Question 03"
      ]
    },
    {
      "cell_type": "code",
      "execution_count": 6,
      "metadata": {
        "colab": {
          "base_uri": "https://localhost:8080/"
        },
        "id": "tEt3v-q4JwyW",
        "outputId": "1bc0b8f6-c958-423f-debc-5f79532fa9d6"
      },
      "outputs": [
        {
          "data": {
            "text/plain": [
              "[0.144, 0.147, 0.127, 0.144, 0.123, 0.133, 0.15, 0.13, 0.127, 0.153]"
            ]
          },
          "execution_count": 6,
          "metadata": {},
          "output_type": "execute_result"
        }
      ],
      "source": [
        "import numpy as np\n",
        "np.random.seed(2024)\n",
        "\n",
        "def simulate(n):\n",
        "    dice = np.random.randint(1, 7, (n, 2))\n",
        "    E = (dice.sum(axis=1) == 8).sum()\n",
        "    return E / n\n",
        "\n",
        "frequencies = [simulate(1000) for _ in range(10)]\n",
        "frequencies"
      ]
    },
    {
      "cell_type": "markdown",
      "metadata": {
        "id": "zpegljljR7ur"
      },
      "source": [
        "# Question 04"
      ]
    },
    {
      "cell_type": "code",
      "execution_count": 7,
      "metadata": {
        "colab": {
          "base_uri": "https://localhost:8080/"
        },
        "id": "vhLnuxbROHdj",
        "outputId": "da8f219a-54f8-41db-ec70-352f0f950b98"
      },
      "outputs": [
        {
          "data": {
            "text/plain": [
              "(0.499416, 0.666206, 0.332734, 0.332713935696)"
            ]
          },
          "execution_count": 7,
          "metadata": {},
          "output_type": "execute_result"
        }
      ],
      "source": [
        "import numpy as np\n",
        "\n",
        "np.random.seed(2024)\n",
        "n = 1000000\n",
        "dice = np.random.randint(1, 7, n)\n",
        "\n",
        "A = np.isin(dice, [2, 4, 6])\n",
        "B = np.isin(dice, [1, 2, 3, 4])\n",
        "\n",
        "P_A = A.sum() / n\n",
        "P_B = B.sum() / n\n",
        "P_A_and_B = (A & B).sum() / n\n",
        "\n",
        "P_A, P_B, P_A_and_B, P_A * P_B"
      ]
    },
    {
      "cell_type": "markdown",
      "metadata": {
        "id": "-1VpO6TxR9mL"
      },
      "source": [
        "# Question 05"
      ]
    },
    {
      "cell_type": "code",
      "execution_count": 8,
      "metadata": {
        "colab": {
          "base_uri": "https://localhost:8080/"
        },
        "id": "zSz_NU_cRnhr",
        "outputId": "b3dc7903-3dee-4e84-e54e-561b5d254133"
      },
      "outputs": [
        {
          "data": {
            "text/plain": [
              "(0.66637, 0.666206, 0.499688, 0.44393969222)"
            ]
          },
          "execution_count": 8,
          "metadata": {},
          "output_type": "execute_result"
        }
      ],
      "source": [
        "import numpy as np\n",
        "\n",
        "np.random.seed(2024)\n",
        "n = 1000000\n",
        "dice = np.random.randint(1, 7, n)\n",
        "\n",
        "A = np.isin(dice, [2, 3, 4, 6])\n",
        "B = np.isin(dice, [1, 2, 3, 4])\n",
        "\n",
        "P_A = A.sum() / n\n",
        "P_B = B.sum() / n\n",
        "P_A_and_B = (A & B).sum() / n\n",
        "\n",
        "P_A, P_B, P_A_and_B, P_A * P_B"
      ]
    }
  ],
  "metadata": {
    "colab": {
      "provenance": []
    },
    "kernelspec": {
      "display_name": "Python 3",
      "name": "python3"
    },
    "language_info": {
      "codemirror_mode": {
        "name": "ipython",
        "version": 3
      },
      "file_extension": ".py",
      "mimetype": "text/x-python",
      "name": "python",
      "nbconvert_exporter": "python",
      "pygments_lexer": "ipython3",
      "version": "3.10.6"
    }
  },
  "nbformat": 4,
  "nbformat_minor": 0
}
